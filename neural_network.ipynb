{
 "cells": [
  {
   "cell_type": "code",
   "execution_count": 1,
   "metadata": {},
   "outputs": [],
   "source": [
    "import pandas as pd\n",
    "dataset = pd.read_csv('Social_Network_Ads.csv')"
   ]
  },
  {
   "cell_type": "code",
   "execution_count": 2,
   "metadata": {},
   "outputs": [
    {
     "data": {
      "text/html": [
       "<div>\n",
       "<style scoped>\n",
       "    .dataframe tbody tr th:only-of-type {\n",
       "        vertical-align: middle;\n",
       "    }\n",
       "\n",
       "    .dataframe tbody tr th {\n",
       "        vertical-align: top;\n",
       "    }\n",
       "\n",
       "    .dataframe thead th {\n",
       "        text-align: right;\n",
       "    }\n",
       "</style>\n",
       "<table border=\"1\" class=\"dataframe\">\n",
       "  <thead>\n",
       "    <tr style=\"text-align: right;\">\n",
       "      <th></th>\n",
       "      <th>User ID</th>\n",
       "      <th>Gender</th>\n",
       "      <th>Age</th>\n",
       "      <th>EstimatedSalary</th>\n",
       "      <th>Purchased</th>\n",
       "    </tr>\n",
       "  </thead>\n",
       "  <tbody>\n",
       "    <tr>\n",
       "      <th>0</th>\n",
       "      <td>15624510</td>\n",
       "      <td>Male</td>\n",
       "      <td>19</td>\n",
       "      <td>19000</td>\n",
       "      <td>0</td>\n",
       "    </tr>\n",
       "    <tr>\n",
       "      <th>1</th>\n",
       "      <td>15810944</td>\n",
       "      <td>Male</td>\n",
       "      <td>35</td>\n",
       "      <td>20000</td>\n",
       "      <td>0</td>\n",
       "    </tr>\n",
       "    <tr>\n",
       "      <th>2</th>\n",
       "      <td>15668575</td>\n",
       "      <td>Female</td>\n",
       "      <td>26</td>\n",
       "      <td>43000</td>\n",
       "      <td>0</td>\n",
       "    </tr>\n",
       "    <tr>\n",
       "      <th>3</th>\n",
       "      <td>15603246</td>\n",
       "      <td>Female</td>\n",
       "      <td>27</td>\n",
       "      <td>57000</td>\n",
       "      <td>0</td>\n",
       "    </tr>\n",
       "    <tr>\n",
       "      <th>4</th>\n",
       "      <td>15804002</td>\n",
       "      <td>Male</td>\n",
       "      <td>19</td>\n",
       "      <td>76000</td>\n",
       "      <td>0</td>\n",
       "    </tr>\n",
       "    <tr>\n",
       "      <th>...</th>\n",
       "      <td>...</td>\n",
       "      <td>...</td>\n",
       "      <td>...</td>\n",
       "      <td>...</td>\n",
       "      <td>...</td>\n",
       "    </tr>\n",
       "    <tr>\n",
       "      <th>395</th>\n",
       "      <td>15691863</td>\n",
       "      <td>Female</td>\n",
       "      <td>46</td>\n",
       "      <td>41000</td>\n",
       "      <td>1</td>\n",
       "    </tr>\n",
       "    <tr>\n",
       "      <th>396</th>\n",
       "      <td>15706071</td>\n",
       "      <td>Male</td>\n",
       "      <td>51</td>\n",
       "      <td>23000</td>\n",
       "      <td>1</td>\n",
       "    </tr>\n",
       "    <tr>\n",
       "      <th>397</th>\n",
       "      <td>15654296</td>\n",
       "      <td>Female</td>\n",
       "      <td>50</td>\n",
       "      <td>20000</td>\n",
       "      <td>1</td>\n",
       "    </tr>\n",
       "    <tr>\n",
       "      <th>398</th>\n",
       "      <td>15755018</td>\n",
       "      <td>Male</td>\n",
       "      <td>36</td>\n",
       "      <td>33000</td>\n",
       "      <td>0</td>\n",
       "    </tr>\n",
       "    <tr>\n",
       "      <th>399</th>\n",
       "      <td>15594041</td>\n",
       "      <td>Female</td>\n",
       "      <td>49</td>\n",
       "      <td>36000</td>\n",
       "      <td>1</td>\n",
       "    </tr>\n",
       "  </tbody>\n",
       "</table>\n",
       "<p>400 rows × 5 columns</p>\n",
       "</div>"
      ],
      "text/plain": [
       "      User ID  Gender  Age  EstimatedSalary  Purchased\n",
       "0    15624510    Male   19            19000          0\n",
       "1    15810944    Male   35            20000          0\n",
       "2    15668575  Female   26            43000          0\n",
       "3    15603246  Female   27            57000          0\n",
       "4    15804002    Male   19            76000          0\n",
       "..        ...     ...  ...              ...        ...\n",
       "395  15691863  Female   46            41000          1\n",
       "396  15706071    Male   51            23000          1\n",
       "397  15654296  Female   50            20000          1\n",
       "398  15755018    Male   36            33000          0\n",
       "399  15594041  Female   49            36000          1\n",
       "\n",
       "[400 rows x 5 columns]"
      ]
     },
     "execution_count": 2,
     "metadata": {},
     "output_type": "execute_result"
    }
   ],
   "source": [
    "dataset"
   ]
  },
  {
   "cell_type": "code",
   "execution_count": 3,
   "metadata": {},
   "outputs": [],
   "source": [
    "x = dataset.iloc[:, [1, 2, 3]]\n",
    "y = dataset.iloc[:, -1]"
   ]
  },
  {
   "cell_type": "code",
   "execution_count": 4,
   "metadata": {},
   "outputs": [
    {
     "data": {
      "text/html": [
       "<div>\n",
       "<style scoped>\n",
       "    .dataframe tbody tr th:only-of-type {\n",
       "        vertical-align: middle;\n",
       "    }\n",
       "\n",
       "    .dataframe tbody tr th {\n",
       "        vertical-align: top;\n",
       "    }\n",
       "\n",
       "    .dataframe thead th {\n",
       "        text-align: right;\n",
       "    }\n",
       "</style>\n",
       "<table border=\"1\" class=\"dataframe\">\n",
       "  <thead>\n",
       "    <tr style=\"text-align: right;\">\n",
       "      <th></th>\n",
       "      <th>Gender</th>\n",
       "      <th>Age</th>\n",
       "      <th>EstimatedSalary</th>\n",
       "    </tr>\n",
       "  </thead>\n",
       "  <tbody>\n",
       "    <tr>\n",
       "      <th>0</th>\n",
       "      <td>Male</td>\n",
       "      <td>19</td>\n",
       "      <td>19000</td>\n",
       "    </tr>\n",
       "    <tr>\n",
       "      <th>1</th>\n",
       "      <td>Male</td>\n",
       "      <td>35</td>\n",
       "      <td>20000</td>\n",
       "    </tr>\n",
       "    <tr>\n",
       "      <th>2</th>\n",
       "      <td>Female</td>\n",
       "      <td>26</td>\n",
       "      <td>43000</td>\n",
       "    </tr>\n",
       "    <tr>\n",
       "      <th>3</th>\n",
       "      <td>Female</td>\n",
       "      <td>27</td>\n",
       "      <td>57000</td>\n",
       "    </tr>\n",
       "    <tr>\n",
       "      <th>4</th>\n",
       "      <td>Male</td>\n",
       "      <td>19</td>\n",
       "      <td>76000</td>\n",
       "    </tr>\n",
       "    <tr>\n",
       "      <th>...</th>\n",
       "      <td>...</td>\n",
       "      <td>...</td>\n",
       "      <td>...</td>\n",
       "    </tr>\n",
       "    <tr>\n",
       "      <th>395</th>\n",
       "      <td>Female</td>\n",
       "      <td>46</td>\n",
       "      <td>41000</td>\n",
       "    </tr>\n",
       "    <tr>\n",
       "      <th>396</th>\n",
       "      <td>Male</td>\n",
       "      <td>51</td>\n",
       "      <td>23000</td>\n",
       "    </tr>\n",
       "    <tr>\n",
       "      <th>397</th>\n",
       "      <td>Female</td>\n",
       "      <td>50</td>\n",
       "      <td>20000</td>\n",
       "    </tr>\n",
       "    <tr>\n",
       "      <th>398</th>\n",
       "      <td>Male</td>\n",
       "      <td>36</td>\n",
       "      <td>33000</td>\n",
       "    </tr>\n",
       "    <tr>\n",
       "      <th>399</th>\n",
       "      <td>Female</td>\n",
       "      <td>49</td>\n",
       "      <td>36000</td>\n",
       "    </tr>\n",
       "  </tbody>\n",
       "</table>\n",
       "<p>400 rows × 3 columns</p>\n",
       "</div>"
      ],
      "text/plain": [
       "     Gender  Age  EstimatedSalary\n",
       "0      Male   19            19000\n",
       "1      Male   35            20000\n",
       "2    Female   26            43000\n",
       "3    Female   27            57000\n",
       "4      Male   19            76000\n",
       "..      ...  ...              ...\n",
       "395  Female   46            41000\n",
       "396    Male   51            23000\n",
       "397  Female   50            20000\n",
       "398    Male   36            33000\n",
       "399  Female   49            36000\n",
       "\n",
       "[400 rows x 3 columns]"
      ]
     },
     "execution_count": 4,
     "metadata": {},
     "output_type": "execute_result"
    }
   ],
   "source": [
    "x"
   ]
  },
  {
   "cell_type": "code",
   "execution_count": 5,
   "metadata": {},
   "outputs": [
    {
     "data": {
      "text/plain": [
       "0      0\n",
       "1      0\n",
       "2      0\n",
       "3      0\n",
       "4      0\n",
       "      ..\n",
       "395    1\n",
       "396    1\n",
       "397    1\n",
       "398    0\n",
       "399    1\n",
       "Name: Purchased, Length: 400, dtype: int64"
      ]
     },
     "execution_count": 5,
     "metadata": {},
     "output_type": "execute_result"
    }
   ],
   "source": [
    "y"
   ]
  },
  {
   "cell_type": "code",
   "execution_count": 6,
   "metadata": {},
   "outputs": [],
   "source": [
    "X = x.values\n",
    "Y = y.values"
   ]
  },
  {
   "cell_type": "code",
   "execution_count": 7,
   "metadata": {},
   "outputs": [
    {
     "data": {
      "text/plain": [
       "array([['Male', 19, 19000],\n",
       "       ['Male', 35, 20000],\n",
       "       ['Female', 26, 43000],\n",
       "       ...,\n",
       "       ['Female', 50, 20000],\n",
       "       ['Male', 36, 33000],\n",
       "       ['Female', 49, 36000]], dtype=object)"
      ]
     },
     "execution_count": 7,
     "metadata": {},
     "output_type": "execute_result"
    }
   ],
   "source": [
    "X"
   ]
  },
  {
   "cell_type": "code",
   "execution_count": 8,
   "metadata": {},
   "outputs": [
    {
     "data": {
      "text/plain": [
       "array([0, 0, 0, 0, 0, 0, 0, 1, 0, 0, 0, 0, 0, 0, 0, 0, 1, 1, 1, 1, 1, 1,\n",
       "       1, 1, 1, 1, 1, 1, 0, 0, 0, 1, 0, 0, 0, 0, 0, 0, 0, 0, 0, 0, 0, 0,\n",
       "       0, 0, 0, 0, 1, 0, 0, 0, 0, 0, 0, 0, 0, 0, 0, 0, 0, 0, 0, 1, 0, 0,\n",
       "       0, 0, 0, 0, 0, 0, 0, 0, 0, 1, 0, 0, 0, 0, 0, 0, 0, 0, 0, 1, 0, 0,\n",
       "       0, 0, 0, 0, 0, 0, 0, 0, 0, 1, 0, 0, 0, 0, 0, 1, 0, 0, 0, 0, 0, 0,\n",
       "       0, 0, 0, 0, 0, 0, 0, 0, 0, 0, 0, 0, 0, 0, 0, 0, 0, 0, 0, 0, 0, 0,\n",
       "       0, 0, 0, 0, 0, 1, 0, 0, 0, 0, 0, 0, 0, 0, 1, 0, 0, 0, 0, 0, 0, 0,\n",
       "       0, 0, 0, 0, 0, 1, 1, 0, 0, 0, 0, 0, 0, 0, 1, 0, 0, 0, 0, 0, 0, 0,\n",
       "       0, 0, 0, 0, 0, 0, 1, 0, 0, 0, 0, 0, 0, 0, 0, 0, 0, 0, 0, 0, 0, 0,\n",
       "       0, 0, 0, 0, 1, 0, 1, 0, 1, 0, 1, 0, 1, 1, 0, 0, 0, 1, 0, 0, 0, 1,\n",
       "       0, 1, 1, 1, 0, 0, 1, 1, 0, 1, 1, 0, 1, 1, 0, 1, 0, 0, 0, 1, 1, 0,\n",
       "       1, 1, 0, 1, 0, 1, 0, 1, 0, 0, 1, 1, 0, 1, 0, 0, 1, 1, 0, 1, 1, 0,\n",
       "       1, 1, 0, 0, 1, 0, 0, 1, 1, 1, 1, 1, 0, 1, 1, 1, 1, 0, 1, 1, 0, 1,\n",
       "       0, 1, 0, 1, 1, 1, 1, 0, 0, 0, 1, 1, 0, 1, 1, 1, 1, 1, 0, 0, 0, 1,\n",
       "       1, 0, 0, 1, 0, 1, 0, 1, 1, 0, 1, 0, 1, 1, 0, 1, 1, 0, 0, 0, 1, 1,\n",
       "       0, 1, 0, 0, 1, 0, 1, 0, 0, 1, 1, 0, 0, 1, 1, 0, 1, 1, 0, 0, 1, 0,\n",
       "       1, 0, 1, 1, 1, 0, 1, 0, 1, 1, 1, 0, 1, 1, 1, 1, 0, 1, 1, 1, 0, 1,\n",
       "       0, 1, 0, 0, 1, 1, 0, 1, 1, 1, 1, 1, 1, 0, 1, 1, 1, 1, 1, 1, 0, 1,\n",
       "       1, 1, 0, 1], dtype=int64)"
      ]
     },
     "execution_count": 8,
     "metadata": {},
     "output_type": "execute_result"
    }
   ],
   "source": [
    "Y"
   ]
  },
  {
   "cell_type": "code",
   "execution_count": 9,
   "metadata": {},
   "outputs": [
    {
     "data": {
      "text/plain": [
       "(400, 3)"
      ]
     },
     "execution_count": 9,
     "metadata": {},
     "output_type": "execute_result"
    }
   ],
   "source": [
    "X.shape"
   ]
  },
  {
   "cell_type": "code",
   "execution_count": 10,
   "metadata": {},
   "outputs": [
    {
     "data": {
      "text/plain": [
       "(400,)"
      ]
     },
     "execution_count": 10,
     "metadata": {},
     "output_type": "execute_result"
    }
   ],
   "source": [
    "Y.shape"
   ]
  },
  {
   "cell_type": "code",
   "execution_count": 11,
   "metadata": {},
   "outputs": [],
   "source": [
    "from sklearn.preprocessing import LabelEncoder\n",
    "le = LabelEncoder()\n",
    "X[:, 0] = le.fit_transform(X[:, 0])"
   ]
  },
  {
   "cell_type": "code",
   "execution_count": 12,
   "metadata": {},
   "outputs": [
    {
     "data": {
      "text/plain": [
       "array([[1, 19, 19000],\n",
       "       [1, 35, 20000],\n",
       "       [0, 26, 43000],\n",
       "       ...,\n",
       "       [0, 50, 20000],\n",
       "       [1, 36, 33000],\n",
       "       [0, 49, 36000]], dtype=object)"
      ]
     },
     "execution_count": 12,
     "metadata": {},
     "output_type": "execute_result"
    }
   ],
   "source": [
    "X"
   ]
  },
  {
   "cell_type": "code",
   "execution_count": 13,
   "metadata": {},
   "outputs": [],
   "source": [
    "from sklearn.preprocessing import MinMaxScaler\n",
    "sc = MinMaxScaler()\n",
    "X = sc.fit_transform(X)"
   ]
  },
  {
   "cell_type": "code",
   "execution_count": 14,
   "metadata": {},
   "outputs": [
    {
     "data": {
      "text/plain": [
       "array([[1.        , 0.02380952, 0.02962963],\n",
       "       [1.        , 0.4047619 , 0.03703704],\n",
       "       [0.        , 0.19047619, 0.20740741],\n",
       "       ...,\n",
       "       [0.        , 0.76190476, 0.03703704],\n",
       "       [1.        , 0.42857143, 0.13333333],\n",
       "       [0.        , 0.73809524, 0.15555556]])"
      ]
     },
     "execution_count": 14,
     "metadata": {},
     "output_type": "execute_result"
    }
   ],
   "source": [
    "X"
   ]
  },
  {
   "cell_type": "code",
   "execution_count": 15,
   "metadata": {},
   "outputs": [],
   "source": [
    "from sklearn.model_selection import train_test_split\n",
    "X_train, X_test, Y_train, Y_test = train_test_split(X, Y, test_size=0.20, random_state=42)"
   ]
  },
  {
   "cell_type": "code",
   "execution_count": 16,
   "metadata": {},
   "outputs": [
    {
     "data": {
      "text/plain": [
       "(320, 3)"
      ]
     },
     "execution_count": 16,
     "metadata": {},
     "output_type": "execute_result"
    }
   ],
   "source": [
    "X_train.shape"
   ]
  },
  {
   "cell_type": "code",
   "execution_count": 17,
   "metadata": {},
   "outputs": [],
   "source": [
    "from tensorflow.keras.models import Sequential\n",
    "from tensorflow.keras.layers import Dense\n",
    "from tensorflow.keras.optimizers import Adam"
   ]
  },
  {
   "cell_type": "code",
   "execution_count": 18,
   "metadata": {},
   "outputs": [],
   "source": [
    "# define the keras model\n",
    "model = Sequential()\n",
    "model.add(Dense(12, input_dim=3, activation='relu'))\n",
    "model.add(Dense(8, activation='relu'))\n",
    "model.add(Dense(1, activation='sigmoid'))\n",
    "# compile the keras model\n",
    "model.compile(loss='binary_crossentropy', optimizer=Adam(learning_rate=0.001), metrics=['accuracy'])"
   ]
  },
  {
   "cell_type": "code",
   "execution_count": 19,
   "metadata": {},
   "outputs": [
    {
     "data": {
      "text/plain": [
       "{'name': 'Adam',\n",
       " 'learning_rate': 0.001,\n",
       " 'decay': 0.0,\n",
       " 'beta_1': 0.9,\n",
       " 'beta_2': 0.999,\n",
       " 'epsilon': 1e-07,\n",
       " 'amsgrad': False}"
      ]
     },
     "execution_count": 19,
     "metadata": {},
     "output_type": "execute_result"
    }
   ],
   "source": [
    "model.optimizer.get_config()"
   ]
  },
  {
   "cell_type": "code",
   "execution_count": 20,
   "metadata": {},
   "outputs": [
    {
     "name": "stdout",
     "output_type": "stream",
     "text": [
      "Model: \"sequential\"\n",
      "_________________________________________________________________\n",
      " Layer (type)                Output Shape              Param #   \n",
      "=================================================================\n",
      " dense (Dense)               (None, 12)                48        \n",
      "                                                                 \n",
      " dense_1 (Dense)             (None, 8)                 104       \n",
      "                                                                 \n",
      " dense_2 (Dense)             (None, 1)                 9         \n",
      "                                                                 \n",
      "=================================================================\n",
      "Total params: 161\n",
      "Trainable params: 161\n",
      "Non-trainable params: 0\n",
      "_________________________________________________________________\n"
     ]
    }
   ],
   "source": [
    "model.summary()"
   ]
  },
  {
   "cell_type": "code",
   "execution_count": 21,
   "metadata": {},
   "outputs": [
    {
     "name": "stdout",
     "output_type": "stream",
     "text": [
      "Epoch 1/100\n",
      "10/10 [==============================] - 2s 4ms/step - loss: 0.6952 - accuracy: 0.4844\n",
      "Epoch 2/100\n",
      "10/10 [==============================] - 0s 998us/step - loss: 0.6885 - accuracy: 0.6500\n",
      "Epoch 3/100\n",
      "10/10 [==============================] - 0s 888us/step - loss: 0.6816 - accuracy: 0.7344\n",
      "Epoch 4/100\n",
      "10/10 [==============================] - 0s 887us/step - loss: 0.6763 - accuracy: 0.7281\n",
      "Epoch 5/100\n",
      "10/10 [==============================] - 0s 934us/step - loss: 0.6706 - accuracy: 0.6906\n",
      "Epoch 6/100\n",
      "10/10 [==============================] - 0s 890us/step - loss: 0.6656 - accuracy: 0.6844\n",
      "Epoch 7/100\n",
      "10/10 [==============================] - 0s 890us/step - loss: 0.6609 - accuracy: 0.6719\n",
      "Epoch 8/100\n",
      "10/10 [==============================] - 0s 932us/step - loss: 0.6564 - accuracy: 0.6687\n",
      "Epoch 9/100\n",
      "10/10 [==============================] - 0s 1ms/step - loss: 0.6519 - accuracy: 0.6687\n",
      "Epoch 10/100\n",
      "10/10 [==============================] - 0s 889us/step - loss: 0.6474 - accuracy: 0.6656\n",
      "Epoch 11/100\n",
      "10/10 [==============================] - 0s 1ms/step - loss: 0.6425 - accuracy: 0.6781\n",
      "Epoch 12/100\n",
      "10/10 [==============================] - 0s 835us/step - loss: 0.6379 - accuracy: 0.6844\n",
      "Epoch 13/100\n",
      "10/10 [==============================] - 0s 888us/step - loss: 0.6330 - accuracy: 0.6938\n",
      "Epoch 14/100\n",
      "10/10 [==============================] - 0s 890us/step - loss: 0.6284 - accuracy: 0.6969\n",
      "Epoch 15/100\n",
      "10/10 [==============================] - 0s 1ms/step - loss: 0.6228 - accuracy: 0.7094\n",
      "Epoch 16/100\n",
      "10/10 [==============================] - 0s 888us/step - loss: 0.6174 - accuracy: 0.7156\n",
      "Epoch 17/100\n",
      "10/10 [==============================] - 0s 890us/step - loss: 0.6094 - accuracy: 0.7156\n",
      "Epoch 18/100\n",
      "10/10 [==============================] - 0s 890us/step - loss: 0.5990 - accuracy: 0.7250\n",
      "Epoch 19/100\n",
      "10/10 [==============================] - 0s 889us/step - loss: 0.5872 - accuracy: 0.7406\n",
      "Epoch 20/100\n",
      "10/10 [==============================] - 0s 998us/step - loss: 0.5774 - accuracy: 0.7875\n",
      "Epoch 21/100\n",
      "10/10 [==============================] - 0s 888us/step - loss: 0.5694 - accuracy: 0.7969\n",
      "Epoch 22/100\n",
      "10/10 [==============================] - 0s 885us/step - loss: 0.5609 - accuracy: 0.7844\n",
      "Epoch 23/100\n",
      "10/10 [==============================] - 0s 859us/step - loss: 0.5528 - accuracy: 0.7844\n",
      "Epoch 24/100\n",
      "10/10 [==============================] - 0s 1000us/step - loss: 0.5452 - accuracy: 0.8125\n",
      "Epoch 25/100\n",
      "10/10 [==============================] - 0s 950us/step - loss: 0.5375 - accuracy: 0.8219\n",
      "Epoch 26/100\n",
      "10/10 [==============================] - 0s 890us/step - loss: 0.5298 - accuracy: 0.8219\n",
      "Epoch 27/100\n",
      "10/10 [==============================] - 0s 889us/step - loss: 0.5227 - accuracy: 0.8219\n",
      "Epoch 28/100\n",
      "10/10 [==============================] - 0s 889us/step - loss: 0.5151 - accuracy: 0.8156\n",
      "Epoch 29/100\n",
      "10/10 [==============================] - 0s 890us/step - loss: 0.5087 - accuracy: 0.8062\n",
      "Epoch 30/100\n",
      "10/10 [==============================] - 0s 887us/step - loss: 0.5006 - accuracy: 0.8250\n",
      "Epoch 31/100\n",
      "10/10 [==============================] - 0s 779us/step - loss: 0.4947 - accuracy: 0.8313\n",
      "Epoch 32/100\n",
      "10/10 [==============================] - 0s 1ms/step - loss: 0.4877 - accuracy: 0.8344\n",
      "Epoch 33/100\n",
      "10/10 [==============================] - 0s 889us/step - loss: 0.4816 - accuracy: 0.8344\n",
      "Epoch 34/100\n",
      "10/10 [==============================] - 0s 889us/step - loss: 0.4754 - accuracy: 0.8375\n",
      "Epoch 35/100\n",
      "10/10 [==============================] - 0s 1ms/step - loss: 0.4697 - accuracy: 0.8375\n",
      "Epoch 36/100\n",
      "10/10 [==============================] - 0s 908us/step - loss: 0.4639 - accuracy: 0.8344\n",
      "Epoch 37/100\n",
      "10/10 [==============================] - 0s 952us/step - loss: 0.4579 - accuracy: 0.8344\n",
      "Epoch 38/100\n",
      "10/10 [==============================] - 0s 999us/step - loss: 0.4526 - accuracy: 0.8375\n",
      "Epoch 39/100\n",
      "10/10 [==============================] - 0s 892us/step - loss: 0.4474 - accuracy: 0.8406\n",
      "Epoch 40/100\n",
      "10/10 [==============================] - 0s 890us/step - loss: 0.4429 - accuracy: 0.8375\n",
      "Epoch 41/100\n",
      "10/10 [==============================] - 0s 890us/step - loss: 0.4402 - accuracy: 0.8281\n",
      "Epoch 42/100\n",
      "10/10 [==============================] - 0s 889us/step - loss: 0.4329 - accuracy: 0.8344\n",
      "Epoch 43/100\n",
      "10/10 [==============================] - 0s 999us/step - loss: 0.4289 - accuracy: 0.8500\n",
      "Epoch 44/100\n",
      "10/10 [==============================] - 0s 890us/step - loss: 0.4249 - accuracy: 0.8531\n",
      "Epoch 45/100\n",
      "10/10 [==============================] - 0s 998us/step - loss: 0.4210 - accuracy: 0.8531\n",
      "Epoch 46/100\n",
      "10/10 [==============================] - 0s 1000us/step - loss: 0.4168 - accuracy: 0.8406\n",
      "Epoch 47/100\n",
      "10/10 [==============================] - 0s 889us/step - loss: 0.4130 - accuracy: 0.8406\n",
      "Epoch 48/100\n",
      "10/10 [==============================] - 0s 889us/step - loss: 0.4098 - accuracy: 0.8500\n",
      "Epoch 49/100\n",
      "10/10 [==============================] - 0s 890us/step - loss: 0.4064 - accuracy: 0.8438\n",
      "Epoch 50/100\n",
      "10/10 [==============================] - 0s 889us/step - loss: 0.4028 - accuracy: 0.8531\n",
      "Epoch 51/100\n",
      "10/10 [==============================] - 0s 887us/step - loss: 0.3997 - accuracy: 0.8469\n",
      "Epoch 52/100\n",
      "10/10 [==============================] - 0s 889us/step - loss: 0.3967 - accuracy: 0.8438\n",
      "Epoch 53/100\n",
      "10/10 [==============================] - 0s 889us/step - loss: 0.3938 - accuracy: 0.8438\n",
      "Epoch 54/100\n",
      "10/10 [==============================] - 0s 899us/step - loss: 0.3908 - accuracy: 0.8594\n",
      "Epoch 55/100\n",
      "10/10 [==============================] - 0s 888us/step - loss: 0.3875 - accuracy: 0.8531\n",
      "Epoch 56/100\n",
      "10/10 [==============================] - 0s 1ms/step - loss: 0.3834 - accuracy: 0.8500\n",
      "Epoch 57/100\n",
      "10/10 [==============================] - 0s 890us/step - loss: 0.3786 - accuracy: 0.8500\n",
      "Epoch 58/100\n",
      "10/10 [==============================] - 0s 889us/step - loss: 0.3762 - accuracy: 0.8531\n",
      "Epoch 59/100\n",
      "10/10 [==============================] - 0s 1000us/step - loss: 0.3738 - accuracy: 0.8531\n",
      "Epoch 60/100\n",
      "10/10 [==============================] - 0s 1ms/step - loss: 0.3716 - accuracy: 0.8500\n",
      "Epoch 61/100\n",
      "10/10 [==============================] - 0s 888us/step - loss: 0.3693 - accuracy: 0.8531\n",
      "Epoch 62/100\n",
      "10/10 [==============================] - 0s 1ms/step - loss: 0.3673 - accuracy: 0.8500\n",
      "Epoch 63/100\n",
      "10/10 [==============================] - 0s 1ms/step - loss: 0.3652 - accuracy: 0.8594\n",
      "Epoch 64/100\n",
      "10/10 [==============================] - 0s 888us/step - loss: 0.3623 - accuracy: 0.8562\n",
      "Epoch 65/100\n",
      "10/10 [==============================] - 0s 888us/step - loss: 0.3614 - accuracy: 0.8500\n",
      "Epoch 66/100\n",
      "10/10 [==============================] - 0s 1000us/step - loss: 0.3559 - accuracy: 0.8562\n",
      "Epoch 67/100\n",
      "10/10 [==============================] - 0s 1ms/step - loss: 0.3541 - accuracy: 0.8562\n",
      "Epoch 68/100\n",
      "10/10 [==============================] - 0s 1ms/step - loss: 0.3514 - accuracy: 0.8562\n",
      "Epoch 69/100\n",
      "10/10 [==============================] - 0s 1000us/step - loss: 0.3487 - accuracy: 0.8594\n",
      "Epoch 70/100\n",
      "10/10 [==============================] - 0s 889us/step - loss: 0.3465 - accuracy: 0.8594\n",
      "Epoch 71/100\n",
      "10/10 [==============================] - 0s 889us/step - loss: 0.3450 - accuracy: 0.8594\n",
      "Epoch 72/100\n",
      "10/10 [==============================] - 0s 999us/step - loss: 0.3428 - accuracy: 0.8656\n",
      "Epoch 73/100\n",
      "10/10 [==============================] - 0s 1000us/step - loss: 0.3419 - accuracy: 0.8625\n",
      "Epoch 74/100\n",
      "10/10 [==============================] - 0s 778us/step - loss: 0.3391 - accuracy: 0.8625\n",
      "Epoch 75/100\n",
      "10/10 [==============================] - 0s 1000us/step - loss: 0.3389 - accuracy: 0.8687\n",
      "Epoch 76/100\n",
      "10/10 [==============================] - 0s 778us/step - loss: 0.3373 - accuracy: 0.8562\n",
      "Epoch 77/100\n",
      "10/10 [==============================] - 0s 889us/step - loss: 0.3350 - accuracy: 0.8625\n",
      "Epoch 78/100\n",
      "10/10 [==============================] - 0s 777us/step - loss: 0.3330 - accuracy: 0.8687\n",
      "Epoch 79/100\n",
      "10/10 [==============================] - 0s 889us/step - loss: 0.3315 - accuracy: 0.8656\n",
      "Epoch 80/100\n",
      "10/10 [==============================] - 0s 889us/step - loss: 0.3305 - accuracy: 0.8656\n",
      "Epoch 81/100\n",
      "10/10 [==============================] - 0s 778us/step - loss: 0.3293 - accuracy: 0.8656\n",
      "Epoch 82/100\n",
      "10/10 [==============================] - 0s 889us/step - loss: 0.3276 - accuracy: 0.8687\n",
      "Epoch 83/100\n",
      "10/10 [==============================] - 0s 777us/step - loss: 0.3270 - accuracy: 0.8719\n",
      "Epoch 84/100\n",
      "10/10 [==============================] - 0s 888us/step - loss: 0.3249 - accuracy: 0.8687\n",
      "Epoch 85/100\n",
      "10/10 [==============================] - 0s 889us/step - loss: 0.3244 - accuracy: 0.8687\n",
      "Epoch 86/100\n",
      "10/10 [==============================] - 0s 889us/step - loss: 0.3231 - accuracy: 0.8656\n",
      "Epoch 87/100\n",
      "10/10 [==============================] - 0s 777us/step - loss: 0.3218 - accuracy: 0.8750\n",
      "Epoch 88/100\n",
      "10/10 [==============================] - 0s 888us/step - loss: 0.3196 - accuracy: 0.8719\n",
      "Epoch 89/100\n",
      "10/10 [==============================] - 0s 778us/step - loss: 0.3181 - accuracy: 0.8719\n",
      "Epoch 90/100\n",
      "10/10 [==============================] - 0s 777us/step - loss: 0.3187 - accuracy: 0.8719\n",
      "Epoch 91/100\n",
      "10/10 [==============================] - 0s 1000us/step - loss: 0.3165 - accuracy: 0.8719\n",
      "Epoch 92/100\n",
      "10/10 [==============================] - 0s 889us/step - loss: 0.3146 - accuracy: 0.8750\n",
      "Epoch 93/100\n",
      "10/10 [==============================] - 0s 889us/step - loss: 0.3135 - accuracy: 0.8719\n",
      "Epoch 94/100\n",
      "10/10 [==============================] - 0s 777us/step - loss: 0.3126 - accuracy: 0.8750\n",
      "Epoch 95/100\n",
      "10/10 [==============================] - 0s 888us/step - loss: 0.3109 - accuracy: 0.8750\n",
      "Epoch 96/100\n",
      "10/10 [==============================] - 0s 777us/step - loss: 0.3111 - accuracy: 0.8750\n",
      "Epoch 97/100\n",
      "10/10 [==============================] - 0s 889us/step - loss: 0.3093 - accuracy: 0.8750\n",
      "Epoch 98/100\n",
      "10/10 [==============================] - 0s 777us/step - loss: 0.3084 - accuracy: 0.8750\n",
      "Epoch 99/100\n",
      "10/10 [==============================] - 0s 889us/step - loss: 0.3070 - accuracy: 0.8750\n",
      "Epoch 100/100\n",
      "10/10 [==============================] - 0s 889us/step - loss: 0.3062 - accuracy: 0.8781\n"
     ]
    }
   ],
   "source": [
    "hist = model.fit(X_train, Y_train, epochs=100, batch_size=32)"
   ]
  },
  {
   "cell_type": "code",
   "execution_count": 22,
   "metadata": {},
   "outputs": [],
   "source": [
    "acc = hist.history['accuracy']\n",
    "loss = hist.history['loss']"
   ]
  },
  {
   "cell_type": "code",
   "execution_count": 23,
   "metadata": {},
   "outputs": [
    {
     "data": {
      "image/png": "[encoded data removed]",
      "text/plain": [
       "<Figure size 432x288 with 1 Axes>"
      ]
     },
     "metadata": {
      "needs_background": "light"
     },
     "output_type": "display_data"
    },
    {
     "data": {
      "text/plain": [
       "<Figure size 432x288 with 0 Axes>"
      ]
     },
     "metadata": {},
     "output_type": "display_data"
    }
   ],
   "source": [
    "from matplotlib import pyplot as plt\n",
    "# plot training accuracy\n",
    "plt.plot(acc, color='blue')\n",
    "plt.title('Model Accuracy', color='green')\n",
    "plt.ylabel('accuracy', color='green')\n",
    "plt.xlabel('epoch', color='green')\n",
    "plt.legend(['train'], loc='lower right')\n",
    "plt.show()\n",
    "plt.savefig('accuracy_curve.png')"
   ]
  },
  {
   "cell_type": "code",
   "execution_count": 24,
   "metadata": {},
   "outputs": [
    {
     "data": {
      "image/png": "[encoded data removed]",
      "text/plain": [
       "<Figure size 432x288 with 1 Axes>"
      ]
     },
     "metadata": {
      "needs_background": "light"
     },
     "output_type": "display_data"
    },
    {
     "data": {
      "text/plain": [
       "<Figure size 432x288 with 0 Axes>"
      ]
     },
     "metadata": {},
     "output_type": "display_data"
    }
   ],
   "source": [
    "# plot training loss\n",
    "plt.plot(loss, color='red')\n",
    "plt.title('Model Loss', color='green')\n",
    "plt.ylabel('loss', color='green')\n",
    "plt.xlabel('epoch', color='green')\n",
    "plt.legend(['train'], loc='upper right')\n",
    "plt.show()\n",
    "plt.savefig('loss_curve.png')"
   ]
  },
  {
   "cell_type": "code",
   "execution_count": 25,
   "metadata": {},
   "outputs": [
    {
     "name": "stdout",
     "output_type": "stream",
     "text": [
      "3/3 [==============================] - 0s 2ms/step - loss: 0.2236 - accuracy: 0.9000\n"
     ]
    }
   ],
   "source": [
    "history_test = model.evaluate(X_test, Y_test)"
   ]
  },
  {
   "cell_type": "code",
   "execution_count": 26,
   "metadata": {},
   "outputs": [
    {
     "data": {
      "text/plain": [
       "[0.22359518706798553, 0.8999999761581421]"
      ]
     },
     "execution_count": 26,
     "metadata": {},
     "output_type": "execute_result"
    }
   ],
   "source": [
    "history_test"
   ]
  }
 ],
 "metadata": {
  "interpreter": {
   "hash": "243097d9b82650434a57d5e2c1290a3e5ae4cf3af9d9da437ed42734f0bb881c"
  },
  "kernelspec": {
   "display_name": "Python 3.9.7 64-bit",
   "language": "python",
   "name": "python3"
  },
  "language_info": {
   "codemirror_mode": {
    "name": "ipython",
    "version": 3
   },
   "file_extension": ".py",
   "mimetype": "text/x-python",
   "name": "python",
   "nbconvert_exporter": "python",
   "pygments_lexer": "ipython3",
   "version": "3.9.7"
  },
  "orig_nbformat": 4
 },
 "nbformat": 4,
 "nbformat_minor": 2
}
