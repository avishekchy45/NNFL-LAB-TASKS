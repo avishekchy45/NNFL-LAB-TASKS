{
 "cells": [
  {
   "cell_type": "code",
   "execution_count": 31,
   "metadata": {},
   "outputs": [],
   "source": [
    "import pandas as pd\n",
    "dataset = pd.read_csv('car.csv')"
   ]
  },
  {
   "cell_type": "code",
   "execution_count": 32,
   "metadata": {},
   "outputs": [
    {
     "data": {
      "text/html": [
       "<div>\n",
       "<style scoped>\n",
       "    .dataframe tbody tr th:only-of-type {\n",
       "        vertical-align: middle;\n",
       "    }\n",
       "\n",
       "    .dataframe tbody tr th {\n",
       "        vertical-align: top;\n",
       "    }\n",
       "\n",
       "    .dataframe thead th {\n",
       "        text-align: right;\n",
       "    }\n",
       "</style>\n",
       "<table border=\"1\" class=\"dataframe\">\n",
       "  <thead>\n",
       "    <tr style=\"text-align: right;\">\n",
       "      <th></th>\n",
       "      <th>buying</th>\n",
       "      <th>maint</th>\n",
       "      <th>doors</th>\n",
       "      <th>persons</th>\n",
       "      <th>lug_boot</th>\n",
       "      <th>safety</th>\n",
       "      <th>class</th>\n",
       "    </tr>\n",
       "  </thead>\n",
       "  <tbody>\n",
       "    <tr>\n",
       "      <th>0</th>\n",
       "      <td>vhigh</td>\n",
       "      <td>vhigh</td>\n",
       "      <td>2</td>\n",
       "      <td>2</td>\n",
       "      <td>small</td>\n",
       "      <td>low</td>\n",
       "      <td>unacc</td>\n",
       "    </tr>\n",
       "    <tr>\n",
       "      <th>1</th>\n",
       "      <td>vhigh</td>\n",
       "      <td>vhigh</td>\n",
       "      <td>2</td>\n",
       "      <td>2</td>\n",
       "      <td>small</td>\n",
       "      <td>med</td>\n",
       "      <td>unacc</td>\n",
       "    </tr>\n",
       "    <tr>\n",
       "      <th>2</th>\n",
       "      <td>vhigh</td>\n",
       "      <td>vhigh</td>\n",
       "      <td>2</td>\n",
       "      <td>2</td>\n",
       "      <td>small</td>\n",
       "      <td>high</td>\n",
       "      <td>unacc</td>\n",
       "    </tr>\n",
       "    <tr>\n",
       "      <th>3</th>\n",
       "      <td>vhigh</td>\n",
       "      <td>vhigh</td>\n",
       "      <td>2</td>\n",
       "      <td>2</td>\n",
       "      <td>med</td>\n",
       "      <td>low</td>\n",
       "      <td>unacc</td>\n",
       "    </tr>\n",
       "    <tr>\n",
       "      <th>4</th>\n",
       "      <td>vhigh</td>\n",
       "      <td>vhigh</td>\n",
       "      <td>2</td>\n",
       "      <td>2</td>\n",
       "      <td>med</td>\n",
       "      <td>med</td>\n",
       "      <td>unacc</td>\n",
       "    </tr>\n",
       "    <tr>\n",
       "      <th>...</th>\n",
       "      <td>...</td>\n",
       "      <td>...</td>\n",
       "      <td>...</td>\n",
       "      <td>...</td>\n",
       "      <td>...</td>\n",
       "      <td>...</td>\n",
       "      <td>...</td>\n",
       "    </tr>\n",
       "    <tr>\n",
       "      <th>1695</th>\n",
       "      <td>low</td>\n",
       "      <td>low</td>\n",
       "      <td>4</td>\n",
       "      <td>more</td>\n",
       "      <td>med</td>\n",
       "      <td>low</td>\n",
       "      <td>unacc</td>\n",
       "    </tr>\n",
       "    <tr>\n",
       "      <th>1696</th>\n",
       "      <td>low</td>\n",
       "      <td>low</td>\n",
       "      <td>4</td>\n",
       "      <td>more</td>\n",
       "      <td>med</td>\n",
       "      <td>med</td>\n",
       "      <td>good</td>\n",
       "    </tr>\n",
       "    <tr>\n",
       "      <th>1697</th>\n",
       "      <td>low</td>\n",
       "      <td>low</td>\n",
       "      <td>4</td>\n",
       "      <td>more</td>\n",
       "      <td>med</td>\n",
       "      <td>high</td>\n",
       "      <td>vgood</td>\n",
       "    </tr>\n",
       "    <tr>\n",
       "      <th>1698</th>\n",
       "      <td>low</td>\n",
       "      <td>low</td>\n",
       "      <td>4</td>\n",
       "      <td>more</td>\n",
       "      <td>big</td>\n",
       "      <td>low</td>\n",
       "      <td>unacc</td>\n",
       "    </tr>\n",
       "    <tr>\n",
       "      <th>1699</th>\n",
       "      <td>low</td>\n",
       "      <td>low</td>\n",
       "      <td>4</td>\n",
       "      <td>more</td>\n",
       "      <td>big</td>\n",
       "      <td>med</td>\n",
       "      <td>good</td>\n",
       "    </tr>\n",
       "  </tbody>\n",
       "</table>\n",
       "<p>1700 rows × 7 columns</p>\n",
       "</div>"
      ],
      "text/plain": [
       "     buying  maint doors persons lug_boot safety  class\n",
       "0     vhigh  vhigh     2       2    small    low  unacc\n",
       "1     vhigh  vhigh     2       2    small    med  unacc\n",
       "2     vhigh  vhigh     2       2    small   high  unacc\n",
       "3     vhigh  vhigh     2       2      med    low  unacc\n",
       "4     vhigh  vhigh     2       2      med    med  unacc\n",
       "...     ...    ...   ...     ...      ...    ...    ...\n",
       "1695    low    low     4    more      med    low  unacc\n",
       "1696    low    low     4    more      med    med   good\n",
       "1697    low    low     4    more      med   high  vgood\n",
       "1698    low    low     4    more      big    low  unacc\n",
       "1699    low    low     4    more      big    med   good\n",
       "\n",
       "[1700 rows x 7 columns]"
      ]
     },
     "execution_count": 32,
     "metadata": {},
     "output_type": "execute_result"
    }
   ],
   "source": [
    "dataset"
   ]
  },
  {
   "cell_type": "code",
   "execution_count": 33,
   "metadata": {},
   "outputs": [],
   "source": [
    "from sklearn.preprocessing import LabelEncoder\n",
    "le = LabelEncoder()\n",
    "dataset = dataset.apply(le.fit_transform)"
   ]
  },
  {
   "cell_type": "code",
   "execution_count": 34,
   "metadata": {},
   "outputs": [],
   "source": [
    "x = dataset.iloc[:, 0:6]\n",
    "y = dataset.iloc[:, -1]"
   ]
  },
  {
   "cell_type": "code",
   "execution_count": 35,
   "metadata": {},
   "outputs": [
    {
     "data": {
      "text/html": [
       "<div>\n",
       "<style scoped>\n",
       "    .dataframe tbody tr th:only-of-type {\n",
       "        vertical-align: middle;\n",
       "    }\n",
       "\n",
       "    .dataframe tbody tr th {\n",
       "        vertical-align: top;\n",
       "    }\n",
       "\n",
       "    .dataframe thead th {\n",
       "        text-align: right;\n",
       "    }\n",
       "</style>\n",
       "<table border=\"1\" class=\"dataframe\">\n",
       "  <thead>\n",
       "    <tr style=\"text-align: right;\">\n",
       "      <th></th>\n",
       "      <th>buying</th>\n",
       "      <th>maint</th>\n",
       "      <th>doors</th>\n",
       "      <th>persons</th>\n",
       "      <th>lug_boot</th>\n",
       "      <th>safety</th>\n",
       "    </tr>\n",
       "  </thead>\n",
       "  <tbody>\n",
       "    <tr>\n",
       "      <th>0</th>\n",
       "      <td>3</td>\n",
       "      <td>3</td>\n",
       "      <td>0</td>\n",
       "      <td>0</td>\n",
       "      <td>2</td>\n",
       "      <td>1</td>\n",
       "    </tr>\n",
       "    <tr>\n",
       "      <th>1</th>\n",
       "      <td>3</td>\n",
       "      <td>3</td>\n",
       "      <td>0</td>\n",
       "      <td>0</td>\n",
       "      <td>2</td>\n",
       "      <td>2</td>\n",
       "    </tr>\n",
       "    <tr>\n",
       "      <th>2</th>\n",
       "      <td>3</td>\n",
       "      <td>3</td>\n",
       "      <td>0</td>\n",
       "      <td>0</td>\n",
       "      <td>2</td>\n",
       "      <td>0</td>\n",
       "    </tr>\n",
       "    <tr>\n",
       "      <th>3</th>\n",
       "      <td>3</td>\n",
       "      <td>3</td>\n",
       "      <td>0</td>\n",
       "      <td>0</td>\n",
       "      <td>1</td>\n",
       "      <td>1</td>\n",
       "    </tr>\n",
       "    <tr>\n",
       "      <th>4</th>\n",
       "      <td>3</td>\n",
       "      <td>3</td>\n",
       "      <td>0</td>\n",
       "      <td>0</td>\n",
       "      <td>1</td>\n",
       "      <td>2</td>\n",
       "    </tr>\n",
       "    <tr>\n",
       "      <th>...</th>\n",
       "      <td>...</td>\n",
       "      <td>...</td>\n",
       "      <td>...</td>\n",
       "      <td>...</td>\n",
       "      <td>...</td>\n",
       "      <td>...</td>\n",
       "    </tr>\n",
       "    <tr>\n",
       "      <th>1695</th>\n",
       "      <td>1</td>\n",
       "      <td>1</td>\n",
       "      <td>2</td>\n",
       "      <td>2</td>\n",
       "      <td>1</td>\n",
       "      <td>1</td>\n",
       "    </tr>\n",
       "    <tr>\n",
       "      <th>1696</th>\n",
       "      <td>1</td>\n",
       "      <td>1</td>\n",
       "      <td>2</td>\n",
       "      <td>2</td>\n",
       "      <td>1</td>\n",
       "      <td>2</td>\n",
       "    </tr>\n",
       "    <tr>\n",
       "      <th>1697</th>\n",
       "      <td>1</td>\n",
       "      <td>1</td>\n",
       "      <td>2</td>\n",
       "      <td>2</td>\n",
       "      <td>1</td>\n",
       "      <td>0</td>\n",
       "    </tr>\n",
       "    <tr>\n",
       "      <th>1698</th>\n",
       "      <td>1</td>\n",
       "      <td>1</td>\n",
       "      <td>2</td>\n",
       "      <td>2</td>\n",
       "      <td>0</td>\n",
       "      <td>1</td>\n",
       "    </tr>\n",
       "    <tr>\n",
       "      <th>1699</th>\n",
       "      <td>1</td>\n",
       "      <td>1</td>\n",
       "      <td>2</td>\n",
       "      <td>2</td>\n",
       "      <td>0</td>\n",
       "      <td>2</td>\n",
       "    </tr>\n",
       "  </tbody>\n",
       "</table>\n",
       "<p>1700 rows × 6 columns</p>\n",
       "</div>"
      ],
      "text/plain": [
       "      buying  maint  doors  persons  lug_boot  safety\n",
       "0          3      3      0        0         2       1\n",
       "1          3      3      0        0         2       2\n",
       "2          3      3      0        0         2       0\n",
       "3          3      3      0        0         1       1\n",
       "4          3      3      0        0         1       2\n",
       "...      ...    ...    ...      ...       ...     ...\n",
       "1695       1      1      2        2         1       1\n",
       "1696       1      1      2        2         1       2\n",
       "1697       1      1      2        2         1       0\n",
       "1698       1      1      2        2         0       1\n",
       "1699       1      1      2        2         0       2\n",
       "\n",
       "[1700 rows x 6 columns]"
      ]
     },
     "execution_count": 35,
     "metadata": {},
     "output_type": "execute_result"
    }
   ],
   "source": [
    "x"
   ]
  },
  {
   "cell_type": "code",
   "execution_count": 36,
   "metadata": {},
   "outputs": [
    {
     "data": {
      "text/plain": [
       "0       2\n",
       "1       2\n",
       "2       2\n",
       "3       2\n",
       "4       2\n",
       "       ..\n",
       "1695    2\n",
       "1696    1\n",
       "1697    3\n",
       "1698    2\n",
       "1699    1\n",
       "Name: class, Length: 1700, dtype: int32"
      ]
     },
     "execution_count": 36,
     "metadata": {},
     "output_type": "execute_result"
    }
   ],
   "source": [
    "y"
   ]
  },
  {
   "cell_type": "code",
   "execution_count": 37,
   "metadata": {},
   "outputs": [],
   "source": [
    "X = x.values\n",
    "Y = y.values"
   ]
  },
  {
   "cell_type": "code",
   "execution_count": 38,
   "metadata": {},
   "outputs": [
    {
     "data": {
      "text/plain": [
       "array([[3, 3, 0, 0, 2, 1],\n",
       "       [3, 3, 0, 0, 2, 2],\n",
       "       [3, 3, 0, 0, 2, 0],\n",
       "       ...,\n",
       "       [1, 1, 2, 2, 1, 0],\n",
       "       [1, 1, 2, 2, 0, 1],\n",
       "       [1, 1, 2, 2, 0, 2]])"
      ]
     },
     "execution_count": 38,
     "metadata": {},
     "output_type": "execute_result"
    }
   ],
   "source": [
    "X"
   ]
  },
  {
   "cell_type": "code",
   "execution_count": 39,
   "metadata": {},
   "outputs": [
    {
     "data": {
      "text/plain": [
       "array([2, 2, 2, ..., 3, 2, 1])"
      ]
     },
     "execution_count": 39,
     "metadata": {},
     "output_type": "execute_result"
    }
   ],
   "source": [
    "Y"
   ]
  },
  {
   "cell_type": "code",
   "execution_count": 40,
   "metadata": {},
   "outputs": [],
   "source": [
    "from sklearn.preprocessing import MinMaxScaler\n",
    "sc = MinMaxScaler()\n",
    "X = sc.fit_transform(X)"
   ]
  },
  {
   "cell_type": "code",
   "execution_count": 41,
   "metadata": {},
   "outputs": [
    {
     "data": {
      "text/plain": [
       "array([[1.        , 1.        , 0.        , 0.        , 1.        ,\n",
       "        0.5       ],\n",
       "       [1.        , 1.        , 0.        , 0.        , 1.        ,\n",
       "        1.        ],\n",
       "       [1.        , 1.        , 0.        , 0.        , 1.        ,\n",
       "        0.        ],\n",
       "       ...,\n",
       "       [0.33333333, 0.33333333, 0.66666667, 1.        , 0.5       ,\n",
       "        0.        ],\n",
       "       [0.33333333, 0.33333333, 0.66666667, 1.        , 0.        ,\n",
       "        0.5       ],\n",
       "       [0.33333333, 0.33333333, 0.66666667, 1.        , 0.        ,\n",
       "        1.        ]])"
      ]
     },
     "execution_count": 41,
     "metadata": {},
     "output_type": "execute_result"
    }
   ],
   "source": [
    "X"
   ]
  },
  {
   "cell_type": "code",
   "execution_count": 42,
   "metadata": {},
   "outputs": [],
   "source": [
    "from sklearn.preprocessing import LabelBinarizer\n",
    "lb = LabelBinarizer()\n",
    "Y = lb.fit_transform(Y)"
   ]
  },
  {
   "cell_type": "code",
   "execution_count": 43,
   "metadata": {},
   "outputs": [
    {
     "data": {
      "text/plain": [
       "array([[0, 0, 1, 0],\n",
       "       [0, 0, 1, 0],\n",
       "       [0, 0, 1, 0],\n",
       "       ...,\n",
       "       [0, 0, 0, 1],\n",
       "       [0, 0, 1, 0],\n",
       "       [0, 1, 0, 0]])"
      ]
     },
     "execution_count": 43,
     "metadata": {},
     "output_type": "execute_result"
    }
   ],
   "source": [
    "Y"
   ]
  },
  {
   "cell_type": "code",
   "execution_count": 44,
   "metadata": {},
   "outputs": [
    {
     "data": {
      "text/plain": [
       "(1700, 4)"
      ]
     },
     "execution_count": 44,
     "metadata": {},
     "output_type": "execute_result"
    }
   ],
   "source": [
    "Y.shape"
   ]
  },
  {
   "cell_type": "code",
   "execution_count": 45,
   "metadata": {},
   "outputs": [],
   "source": [
    "from sklearn.model_selection import train_test_split\n",
    "X_train, X_test, Y_train, Y_test = train_test_split(X, Y, test_size=0.20, random_state=42)"
   ]
  },
  {
   "cell_type": "code",
   "execution_count": 46,
   "metadata": {},
   "outputs": [
    {
     "data": {
      "text/plain": [
       "(1360, 6)"
      ]
     },
     "execution_count": 46,
     "metadata": {},
     "output_type": "execute_result"
    }
   ],
   "source": [
    "X_train.shape"
   ]
  },
  {
   "cell_type": "code",
   "execution_count": 47,
   "metadata": {},
   "outputs": [
    {
     "data": {
      "text/plain": [
       "(340, 6)"
      ]
     },
     "execution_count": 47,
     "metadata": {},
     "output_type": "execute_result"
    }
   ],
   "source": [
    "X_test.shape"
   ]
  },
  {
   "cell_type": "code",
   "execution_count": 48,
   "metadata": {},
   "outputs": [],
   "source": [
    "from tensorflow.keras.models import Sequential\n",
    "from tensorflow.keras.layers import Dense\n",
    "from tensorflow.keras.optimizers import Adam"
   ]
  },
  {
   "cell_type": "code",
   "execution_count": 49,
   "metadata": {},
   "outputs": [],
   "source": [
    "# define the keras model\n",
    "model = Sequential(name='sequential_1')\n",
    "model.add(Dense(12, input_dim=6, activation='relu', name='dense_1'))\n",
    "model.add(Dense(8, activation='relu', name='dense_2'))\n",
    "model.add(Dense(4, activation='softmax', name='dense_3'))\n",
    "# compile the keras model\n",
    "model.compile(loss='binary_crossentropy', optimizer=Adam(learning_rate=0.01), metrics=['accuracy'])"
   ]
  },
  {
   "cell_type": "code",
   "execution_count": 50,
   "metadata": {},
   "outputs": [
    {
     "data": {
      "text/plain": [
       "{'name': 'Adam',\n",
       " 'learning_rate': 0.01,\n",
       " 'decay': 0.0,\n",
       " 'beta_1': 0.9,\n",
       " 'beta_2': 0.999,\n",
       " 'epsilon': 1e-07,\n",
       " 'amsgrad': False}"
      ]
     },
     "execution_count": 50,
     "metadata": {},
     "output_type": "execute_result"
    }
   ],
   "source": [
    "model.optimizer.get_config()"
   ]
  },
  {
   "cell_type": "code",
   "execution_count": 51,
   "metadata": {},
   "outputs": [
    {
     "name": "stdout",
     "output_type": "stream",
     "text": [
      "Model: \"sequential_1\"\n",
      "_________________________________________________________________\n",
      " Layer (type)                Output Shape              Param #   \n",
      "=================================================================\n",
      " dense_1 (Dense)             (None, 12)                84        \n",
      "                                                                 \n",
      " dense_2 (Dense)             (None, 8)                 104       \n",
      "                                                                 \n",
      " dense_3 (Dense)             (None, 4)                 36        \n",
      "                                                                 \n",
      "=================================================================\n",
      "Total params: 224\n",
      "Trainable params: 224\n",
      "Non-trainable params: 0\n",
      "_________________________________________________________________\n"
     ]
    }
   ],
   "source": [
    "model.summary()"
   ]
  },
  {
   "cell_type": "code",
   "execution_count": 52,
   "metadata": {},
   "outputs": [
    {
     "name": "stdout",
     "output_type": "stream",
     "text": [
      "Epoch 1/100\n",
      "80/80 [==============================] - 0s 972us/step - loss: 0.3643 - accuracy: 0.6993\n",
      "Epoch 2/100\n",
      "80/80 [==============================] - 0s 1ms/step - loss: 0.2920 - accuracy: 0.7176\n",
      "Epoch 3/100\n",
      "80/80 [==============================] - 0s 1ms/step - loss: 0.2467 - accuracy: 0.7676\n",
      "Epoch 4/100\n",
      "80/80 [==============================] - 0s 1ms/step - loss: 0.2053 - accuracy: 0.8022\n",
      "Epoch 5/100\n",
      "80/80 [==============================] - 0s 1ms/step - loss: 0.1806 - accuracy: 0.8338\n",
      "Epoch 6/100\n",
      "80/80 [==============================] - 0s 1ms/step - loss: 0.1740 - accuracy: 0.8287\n",
      "Epoch 7/100\n",
      "80/80 [==============================] - 0s 1ms/step - loss: 0.1573 - accuracy: 0.8456\n",
      "Epoch 8/100\n",
      "80/80 [==============================] - 0s 1ms/step - loss: 0.1466 - accuracy: 0.8544\n",
      "Epoch 9/100\n",
      "80/80 [==============================] - 0s 1ms/step - loss: 0.1375 - accuracy: 0.8816\n",
      "Epoch 10/100\n",
      "80/80 [==============================] - 0s 962us/step - loss: 0.1245 - accuracy: 0.8934\n",
      "Epoch 11/100\n",
      "80/80 [==============================] - 0s 2ms/step - loss: 0.1173 - accuracy: 0.9029\n",
      "Epoch 12/100\n",
      "80/80 [==============================] - 0s 800us/step - loss: 0.1164 - accuracy: 0.9074\n",
      "Epoch 13/100\n",
      "80/80 [==============================] - 0s 785us/step - loss: 0.1108 - accuracy: 0.9110\n",
      "Epoch 14/100\n",
      "80/80 [==============================] - 0s 696us/step - loss: 0.1025 - accuracy: 0.9199\n",
      "Epoch 15/100\n",
      "80/80 [==============================] - 0s 873us/step - loss: 0.0951 - accuracy: 0.9272\n",
      "Epoch 16/100\n",
      "80/80 [==============================] - 0s 721us/step - loss: 0.0923 - accuracy: 0.9301\n",
      "Epoch 17/100\n",
      "80/80 [==============================] - 0s 747us/step - loss: 0.0921 - accuracy: 0.9309\n",
      "Epoch 18/100\n",
      "80/80 [==============================] - 0s 759us/step - loss: 0.0858 - accuracy: 0.9404\n",
      "Epoch 19/100\n",
      "80/80 [==============================] - 0s 721us/step - loss: 0.0790 - accuracy: 0.9397\n",
      "Epoch 20/100\n",
      "80/80 [==============================] - 0s 734us/step - loss: 0.0750 - accuracy: 0.9426\n",
      "Epoch 21/100\n",
      "80/80 [==============================] - 0s 772us/step - loss: 0.0702 - accuracy: 0.9507\n",
      "Epoch 22/100\n",
      "80/80 [==============================] - 0s 797us/step - loss: 0.0663 - accuracy: 0.9559\n",
      "Epoch 23/100\n",
      "80/80 [==============================] - 0s 845us/step - loss: 0.0783 - accuracy: 0.9500\n",
      "Epoch 24/100\n",
      "80/80 [==============================] - 0s 817us/step - loss: 0.0666 - accuracy: 0.9463\n",
      "Epoch 25/100\n",
      "80/80 [==============================] - 0s 810us/step - loss: 0.0618 - accuracy: 0.9581\n",
      "Epoch 26/100\n",
      "80/80 [==============================] - 0s 860us/step - loss: 0.0681 - accuracy: 0.9537\n",
      "Epoch 27/100\n",
      "80/80 [==============================] - 0s 791us/step - loss: 0.0566 - accuracy: 0.9632\n",
      "Epoch 28/100\n",
      "80/80 [==============================] - 0s 772us/step - loss: 0.0566 - accuracy: 0.9588\n",
      "Epoch 29/100\n",
      "80/80 [==============================] - 0s 1ms/step - loss: 0.0525 - accuracy: 0.9721\n",
      "Epoch 30/100\n",
      "80/80 [==============================] - 0s 949us/step - loss: 0.0482 - accuracy: 0.9721\n",
      "Epoch 31/100\n",
      "80/80 [==============================] - 0s 1ms/step - loss: 0.0509 - accuracy: 0.9618\n",
      "Epoch 32/100\n",
      "80/80 [==============================] - 0s 696us/step - loss: 0.0454 - accuracy: 0.9721\n",
      "Epoch 33/100\n",
      "80/80 [==============================] - 0s 936us/step - loss: 0.0499 - accuracy: 0.9625\n",
      "Epoch 34/100\n",
      "80/80 [==============================] - 0s 848us/step - loss: 0.0479 - accuracy: 0.9691\n",
      "Epoch 35/100\n",
      "80/80 [==============================] - 0s 810us/step - loss: 0.0616 - accuracy: 0.9625\n",
      "Epoch 36/100\n",
      "80/80 [==============================] - 0s 962us/step - loss: 0.0600 - accuracy: 0.9603\n",
      "Epoch 37/100\n",
      "80/80 [==============================] - 0s 785us/step - loss: 0.0441 - accuracy: 0.9743\n",
      "Epoch 38/100\n",
      "80/80 [==============================] - 0s 734us/step - loss: 0.0613 - accuracy: 0.9566\n",
      "Epoch 39/100\n",
      "80/80 [==============================] - 0s 810us/step - loss: 0.0518 - accuracy: 0.9684\n",
      "Epoch 40/100\n",
      "80/80 [==============================] - 0s 898us/step - loss: 0.0408 - accuracy: 0.9750\n",
      "Epoch 41/100\n",
      "80/80 [==============================] - 0s 747us/step - loss: 0.0372 - accuracy: 0.9772\n",
      "Epoch 42/100\n",
      "80/80 [==============================] - 0s 759us/step - loss: 0.0374 - accuracy: 0.9787\n",
      "Epoch 43/100\n",
      "80/80 [==============================] - 0s 835us/step - loss: 0.0354 - accuracy: 0.9831\n",
      "Epoch 44/100\n",
      "80/80 [==============================] - 0s 709us/step - loss: 0.0379 - accuracy: 0.9779\n",
      "Epoch 45/100\n",
      "80/80 [==============================] - 0s 772us/step - loss: 0.0433 - accuracy: 0.9706\n",
      "Epoch 46/100\n",
      "80/80 [==============================] - 0s 860us/step - loss: 0.0373 - accuracy: 0.9772\n",
      "Epoch 47/100\n",
      "80/80 [==============================] - 0s 835us/step - loss: 0.0396 - accuracy: 0.9735\n",
      "Epoch 48/100\n",
      "80/80 [==============================] - 0s 835us/step - loss: 0.0355 - accuracy: 0.9787\n",
      "Epoch 49/100\n",
      "80/80 [==============================] - 0s 962us/step - loss: 0.0410 - accuracy: 0.9765\n",
      "Epoch 50/100\n",
      "80/80 [==============================] - 0s 835us/step - loss: 0.0662 - accuracy: 0.9551\n",
      "Epoch 51/100\n",
      "80/80 [==============================] - 0s 1ms/step - loss: 0.0579 - accuracy: 0.9566\n",
      "Epoch 52/100\n",
      "80/80 [==============================] - 0s 772us/step - loss: 0.0357 - accuracy: 0.9794\n",
      "Epoch 53/100\n",
      "80/80 [==============================] - 0s 861us/step - loss: 0.0377 - accuracy: 0.9743\n",
      "Epoch 54/100\n",
      "80/80 [==============================] - 0s 936us/step - loss: 0.0357 - accuracy: 0.9772\n",
      "Epoch 55/100\n",
      "80/80 [==============================] - 0s 861us/step - loss: 0.0379 - accuracy: 0.9757\n",
      "Epoch 56/100\n",
      "80/80 [==============================] - 0s 797us/step - loss: 0.0304 - accuracy: 0.9816\n",
      "Epoch 57/100\n",
      "80/80 [==============================] - 0s 823us/step - loss: 0.0341 - accuracy: 0.9779\n",
      "Epoch 58/100\n",
      "80/80 [==============================] - 0s 772us/step - loss: 0.0302 - accuracy: 0.9787\n",
      "Epoch 59/100\n",
      "80/80 [==============================] - 0s 797us/step - loss: 0.0297 - accuracy: 0.9831\n",
      "Epoch 60/100\n",
      "80/80 [==============================] - 0s 886us/step - loss: 0.0294 - accuracy: 0.9838\n",
      "Epoch 61/100\n",
      "80/80 [==============================] - 0s 797us/step - loss: 0.0304 - accuracy: 0.9816\n",
      "Epoch 62/100\n",
      "80/80 [==============================] - 0s 785us/step - loss: 0.0329 - accuracy: 0.9757\n",
      "Epoch 63/100\n",
      "80/80 [==============================] - 0s 835us/step - loss: 0.0348 - accuracy: 0.9743\n",
      "Epoch 64/100\n",
      "80/80 [==============================] - 0s 835us/step - loss: 0.0307 - accuracy: 0.9816\n",
      "Epoch 65/100\n",
      "80/80 [==============================] - 0s 810us/step - loss: 0.0286 - accuracy: 0.9801\n",
      "Epoch 66/100\n",
      "80/80 [==============================] - 0s 962us/step - loss: 0.0342 - accuracy: 0.9750\n",
      "Epoch 67/100\n",
      "80/80 [==============================] - 0s 1ms/step - loss: 0.0270 - accuracy: 0.9816\n",
      "Epoch 68/100\n",
      "80/80 [==============================] - 0s 1ms/step - loss: 0.0327 - accuracy: 0.9765\n",
      "Epoch 69/100\n",
      "80/80 [==============================] - 0s 1ms/step - loss: 0.0372 - accuracy: 0.9728\n",
      "Epoch 70/100\n",
      "80/80 [==============================] - 0s 1ms/step - loss: 0.0332 - accuracy: 0.9757\n",
      "Epoch 71/100\n",
      "80/80 [==============================] - 0s 835us/step - loss: 0.0278 - accuracy: 0.9801\n",
      "Epoch 72/100\n",
      "80/80 [==============================] - 0s 772us/step - loss: 0.0302 - accuracy: 0.9816\n",
      "Epoch 73/100\n",
      "80/80 [==============================] - 0s 823us/step - loss: 0.0368 - accuracy: 0.9735\n",
      "Epoch 74/100\n",
      "80/80 [==============================] - 0s 759us/step - loss: 0.0450 - accuracy: 0.9706\n",
      "Epoch 75/100\n",
      "80/80 [==============================] - 0s 772us/step - loss: 0.0405 - accuracy: 0.9735\n",
      "Epoch 76/100\n",
      "80/80 [==============================] - 0s 886us/step - loss: 0.0237 - accuracy: 0.9831\n",
      "Epoch 77/100\n",
      "80/80 [==============================] - 0s 797us/step - loss: 0.0252 - accuracy: 0.9853\n",
      "Epoch 78/100\n",
      "80/80 [==============================] - 0s 823us/step - loss: 0.0311 - accuracy: 0.9772\n",
      "Epoch 79/100\n",
      "80/80 [==============================] - 0s 810us/step - loss: 0.0262 - accuracy: 0.9824\n",
      "Epoch 80/100\n",
      "80/80 [==============================] - 0s 785us/step - loss: 0.0337 - accuracy: 0.9735\n",
      "Epoch 81/100\n",
      "80/80 [==============================] - 0s 823us/step - loss: 0.0294 - accuracy: 0.9801\n",
      "Epoch 82/100\n",
      "80/80 [==============================] - 0s 797us/step - loss: 0.0251 - accuracy: 0.9838\n",
      "Epoch 83/100\n",
      "80/80 [==============================] - 0s 772us/step - loss: 0.0240 - accuracy: 0.9824\n",
      "Epoch 84/100\n",
      "80/80 [==============================] - 0s 848us/step - loss: 0.0224 - accuracy: 0.9890\n",
      "Epoch 85/100\n",
      "80/80 [==============================] - 0s 810us/step - loss: 0.0250 - accuracy: 0.9838\n",
      "Epoch 86/100\n",
      "80/80 [==============================] - 0s 747us/step - loss: 0.0293 - accuracy: 0.9787\n",
      "Epoch 87/100\n",
      "80/80 [==============================] - 0s 753us/step - loss: 0.0202 - accuracy: 0.9882\n",
      "Epoch 88/100\n",
      "80/80 [==============================] - 0s 835us/step - loss: 0.0224 - accuracy: 0.9824\n",
      "Epoch 89/100\n",
      "80/80 [==============================] - 0s 785us/step - loss: 0.0232 - accuracy: 0.9853\n",
      "Epoch 90/100\n",
      "80/80 [==============================] - 0s 772us/step - loss: 0.0287 - accuracy: 0.9816\n",
      "Epoch 91/100\n",
      "80/80 [==============================] - 0s 835us/step - loss: 0.0214 - accuracy: 0.9853\n",
      "Epoch 92/100\n",
      "80/80 [==============================] - 0s 759us/step - loss: 0.0217 - accuracy: 0.9853\n",
      "Epoch 93/100\n",
      "80/80 [==============================] - 0s 759us/step - loss: 0.0229 - accuracy: 0.9824\n",
      "Epoch 94/100\n",
      "80/80 [==============================] - 0s 823us/step - loss: 0.0199 - accuracy: 0.9882\n",
      "Epoch 95/100\n",
      "80/80 [==============================] - 0s 810us/step - loss: 0.0194 - accuracy: 0.9897\n",
      "Epoch 96/100\n",
      "80/80 [==============================] - 0s 798us/step - loss: 0.0252 - accuracy: 0.9809\n",
      "Epoch 97/100\n",
      "80/80 [==============================] - 0s 861us/step - loss: 0.0262 - accuracy: 0.9816\n",
      "Epoch 98/100\n",
      "80/80 [==============================] - 0s 797us/step - loss: 0.0334 - accuracy: 0.9816\n",
      "Epoch 99/100\n",
      "80/80 [==============================] - 0s 860us/step - loss: 0.0214 - accuracy: 0.9853\n",
      "Epoch 100/100\n",
      "80/80 [==============================] - 0s 991us/step - loss: 0.0198 - accuracy: 0.9875\n"
     ]
    }
   ],
   "source": [
    "hist = model.fit(X_train, Y_train, epochs=100, batch_size=17)"
   ]
  },
  {
   "cell_type": "code",
   "execution_count": 53,
   "metadata": {},
   "outputs": [
    {
     "data": {
      "text/plain": [
       "dict_keys(['validation_data', 'model', '_chief_worker_only', '_supports_tf_logs', 'history', 'params', 'epoch'])"
      ]
     },
     "execution_count": 53,
     "metadata": {},
     "output_type": "execute_result"
    }
   ],
   "source": [
    "hist.__dict__.keys()"
   ]
  },
  {
   "cell_type": "code",
   "execution_count": 54,
   "metadata": {},
   "outputs": [
    {
     "data": {
      "text/plain": [
       "dict_keys(['loss', 'accuracy'])"
      ]
     },
     "execution_count": 54,
     "metadata": {},
     "output_type": "execute_result"
    }
   ],
   "source": [
    "hist.history.keys()"
   ]
  },
  {
   "cell_type": "code",
   "execution_count": 55,
   "metadata": {},
   "outputs": [],
   "source": [
    "acc = hist.history['accuracy']\n",
    "loss = hist.history['loss']"
   ]
  },
  {
   "cell_type": "code",
   "execution_count": 56,
   "metadata": {},
   "outputs": [
    {
     "data": {
      "image/png": "[encoded data removed]",
      "text/plain": [
       "<Figure size 432x288 with 1 Axes>"
      ]
     },
     "metadata": {
      "needs_background": "light"
     },
     "output_type": "display_data"
    },
    {
     "data": {
      "text/plain": [
       "<Figure size 432x288 with 0 Axes>"
      ]
     },
     "metadata": {},
     "output_type": "display_data"
    }
   ],
   "source": [
    "from matplotlib import pyplot as plt\n",
    "# plot training accuracy\n",
    "plt.plot(acc, color='blue')\n",
    "plt.title('Model Accuracy', color='green')\n",
    "plt.ylabel('accuracy', color='green')\n",
    "plt.xlabel('epoch', color='green')\n",
    "plt.legend(['train'], loc='lower right')\n",
    "plt.show()\n",
    "plt.savefig('accuracy_curve.png')"
   ]
  },
  {
   "cell_type": "code",
   "execution_count": 57,
   "metadata": {},
   "outputs": [
    {
     "data": {
      "image/png": "[encoded data removed]",
      "text/plain": [
       "<Figure size 432x288 with 1 Axes>"
      ]
     },
     "metadata": {
      "needs_background": "light"
     },
     "output_type": "display_data"
    },
    {
     "data": {
      "text/plain": [
       "<Figure size 432x288 with 0 Axes>"
      ]
     },
     "metadata": {},
     "output_type": "display_data"
    }
   ],
   "source": [
    "# plot training loss\n",
    "plt.plot(loss, color='red')\n",
    "plt.title('Model Loss', color='green')\n",
    "plt.ylabel('loss', color='green')\n",
    "plt.xlabel('epoch', color='green')\n",
    "plt.legend(['train'], loc='upper right')\n",
    "plt.show()\n",
    "plt.savefig('loss_curve.png')"
   ]
  },
  {
   "cell_type": "code",
   "execution_count": 58,
   "metadata": {},
   "outputs": [
    {
     "name": "stdout",
     "output_type": "stream",
     "text": [
      "11/11 [==============================] - 0s 1ms/step - loss: 0.0420 - accuracy: 0.9706\n"
     ]
    }
   ],
   "source": [
    "history_test = model.evaluate(X_test, Y_test)"
   ]
  },
  {
   "cell_type": "code",
   "execution_count": 59,
   "metadata": {},
   "outputs": [
    {
     "name": "stdout",
     "output_type": "stream",
     "text": [
      "43/43 [==============================] - 0s 737us/step - loss: 0.0251 - accuracy: 0.9831\n"
     ]
    }
   ],
   "source": [
    "history_train = model.evaluate(X_train, Y_train)"
   ]
  },
  {
   "cell_type": "code",
   "execution_count": 60,
   "metadata": {},
   "outputs": [
    {
     "data": {
      "text/plain": [
       "[0.0420001745223999, 0.970588207244873]"
      ]
     },
     "execution_count": 60,
     "metadata": {},
     "output_type": "execute_result"
    }
   ],
   "source": [
    "history_test"
   ]
  }
 ],
 "metadata": {
  "interpreter": {
   "hash": "243097d9b82650434a57d5e2c1290a3e5ae4cf3af9d9da437ed42734f0bb881c"
  },
  "kernelspec": {
   "display_name": "Python 3.9.7 64-bit",
   "language": "python",
   "name": "python3"
  },
  "language_info": {
   "codemirror_mode": {
    "name": "ipython",
    "version": 3
   },
   "file_extension": ".py",
   "mimetype": "text/x-python",
   "name": "python",
   "nbconvert_exporter": "python",
   "pygments_lexer": "ipython3",
   "version": "3.9.7"
  },
  "orig_nbformat": 4
 },
 "nbformat": 4,
 "nbformat_minor": 2
}
