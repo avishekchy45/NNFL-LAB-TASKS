{
 "cells": [
  {
   "cell_type": "code",
   "execution_count": 1,
   "metadata": {},
   "outputs": [],
   "source": [
    "import pandas as pd\n",
    "dataset = pd.read_csv('car.csv')"
   ]
  },
  {
   "cell_type": "code",
   "execution_count": 2,
   "metadata": {},
   "outputs": [
    {
     "data": {
      "text/html": [
       "<div>\n",
       "<style scoped>\n",
       "    .dataframe tbody tr th:only-of-type {\n",
       "        vertical-align: middle;\n",
       "    }\n",
       "\n",
       "    .dataframe tbody tr th {\n",
       "        vertical-align: top;\n",
       "    }\n",
       "\n",
       "    .dataframe thead th {\n",
       "        text-align: right;\n",
       "    }\n",
       "</style>\n",
       "<table border=\"1\" class=\"dataframe\">\n",
       "  <thead>\n",
       "    <tr style=\"text-align: right;\">\n",
       "      <th></th>\n",
       "      <th>buying</th>\n",
       "      <th>maint</th>\n",
       "      <th>doors</th>\n",
       "      <th>persons</th>\n",
       "      <th>lug_boot</th>\n",
       "      <th>safety</th>\n",
       "      <th>class</th>\n",
       "    </tr>\n",
       "  </thead>\n",
       "  <tbody>\n",
       "    <tr>\n",
       "      <th>0</th>\n",
       "      <td>vhigh</td>\n",
       "      <td>vhigh</td>\n",
       "      <td>2</td>\n",
       "      <td>2</td>\n",
       "      <td>small</td>\n",
       "      <td>low</td>\n",
       "      <td>unacc</td>\n",
       "    </tr>\n",
       "    <tr>\n",
       "      <th>1</th>\n",
       "      <td>vhigh</td>\n",
       "      <td>vhigh</td>\n",
       "      <td>2</td>\n",
       "      <td>2</td>\n",
       "      <td>small</td>\n",
       "      <td>med</td>\n",
       "      <td>unacc</td>\n",
       "    </tr>\n",
       "    <tr>\n",
       "      <th>2</th>\n",
       "      <td>vhigh</td>\n",
       "      <td>vhigh</td>\n",
       "      <td>2</td>\n",
       "      <td>2</td>\n",
       "      <td>small</td>\n",
       "      <td>high</td>\n",
       "      <td>unacc</td>\n",
       "    </tr>\n",
       "    <tr>\n",
       "      <th>3</th>\n",
       "      <td>vhigh</td>\n",
       "      <td>vhigh</td>\n",
       "      <td>2</td>\n",
       "      <td>2</td>\n",
       "      <td>med</td>\n",
       "      <td>low</td>\n",
       "      <td>unacc</td>\n",
       "    </tr>\n",
       "    <tr>\n",
       "      <th>4</th>\n",
       "      <td>vhigh</td>\n",
       "      <td>vhigh</td>\n",
       "      <td>2</td>\n",
       "      <td>2</td>\n",
       "      <td>med</td>\n",
       "      <td>med</td>\n",
       "      <td>unacc</td>\n",
       "    </tr>\n",
       "    <tr>\n",
       "      <th>...</th>\n",
       "      <td>...</td>\n",
       "      <td>...</td>\n",
       "      <td>...</td>\n",
       "      <td>...</td>\n",
       "      <td>...</td>\n",
       "      <td>...</td>\n",
       "      <td>...</td>\n",
       "    </tr>\n",
       "    <tr>\n",
       "      <th>1695</th>\n",
       "      <td>low</td>\n",
       "      <td>low</td>\n",
       "      <td>4</td>\n",
       "      <td>more</td>\n",
       "      <td>med</td>\n",
       "      <td>low</td>\n",
       "      <td>unacc</td>\n",
       "    </tr>\n",
       "    <tr>\n",
       "      <th>1696</th>\n",
       "      <td>low</td>\n",
       "      <td>low</td>\n",
       "      <td>4</td>\n",
       "      <td>more</td>\n",
       "      <td>med</td>\n",
       "      <td>med</td>\n",
       "      <td>good</td>\n",
       "    </tr>\n",
       "    <tr>\n",
       "      <th>1697</th>\n",
       "      <td>low</td>\n",
       "      <td>low</td>\n",
       "      <td>4</td>\n",
       "      <td>more</td>\n",
       "      <td>med</td>\n",
       "      <td>high</td>\n",
       "      <td>vgood</td>\n",
       "    </tr>\n",
       "    <tr>\n",
       "      <th>1698</th>\n",
       "      <td>low</td>\n",
       "      <td>low</td>\n",
       "      <td>4</td>\n",
       "      <td>more</td>\n",
       "      <td>big</td>\n",
       "      <td>low</td>\n",
       "      <td>unacc</td>\n",
       "    </tr>\n",
       "    <tr>\n",
       "      <th>1699</th>\n",
       "      <td>low</td>\n",
       "      <td>low</td>\n",
       "      <td>4</td>\n",
       "      <td>more</td>\n",
       "      <td>big</td>\n",
       "      <td>med</td>\n",
       "      <td>good</td>\n",
       "    </tr>\n",
       "  </tbody>\n",
       "</table>\n",
       "<p>1700 rows × 7 columns</p>\n",
       "</div>"
      ],
      "text/plain": [
       "     buying  maint doors persons lug_boot safety  class\n",
       "0     vhigh  vhigh     2       2    small    low  unacc\n",
       "1     vhigh  vhigh     2       2    small    med  unacc\n",
       "2     vhigh  vhigh     2       2    small   high  unacc\n",
       "3     vhigh  vhigh     2       2      med    low  unacc\n",
       "4     vhigh  vhigh     2       2      med    med  unacc\n",
       "...     ...    ...   ...     ...      ...    ...    ...\n",
       "1695    low    low     4    more      med    low  unacc\n",
       "1696    low    low     4    more      med    med   good\n",
       "1697    low    low     4    more      med   high  vgood\n",
       "1698    low    low     4    more      big    low  unacc\n",
       "1699    low    low     4    more      big    med   good\n",
       "\n",
       "[1700 rows x 7 columns]"
      ]
     },
     "execution_count": 2,
     "metadata": {},
     "output_type": "execute_result"
    }
   ],
   "source": [
    "dataset"
   ]
  },
  {
   "cell_type": "code",
   "execution_count": 3,
   "metadata": {},
   "outputs": [],
   "source": [
    "# from sklearn.preprocessing import LabelEncoder\n",
    "# le = LabelEncoder()\n",
    "# dataset = dataset.apply(le.fit_transform)"
   ]
  },
  {
   "cell_type": "code",
   "execution_count": 4,
   "metadata": {},
   "outputs": [],
   "source": [
    "x = dataset.iloc[:, 0:6]\n",
    "y = dataset.iloc[:, -1]"
   ]
  },
  {
   "cell_type": "code",
   "execution_count": 5,
   "metadata": {},
   "outputs": [
    {
     "data": {
      "text/html": [
       "<div>\n",
       "<style scoped>\n",
       "    .dataframe tbody tr th:only-of-type {\n",
       "        vertical-align: middle;\n",
       "    }\n",
       "\n",
       "    .dataframe tbody tr th {\n",
       "        vertical-align: top;\n",
       "    }\n",
       "\n",
       "    .dataframe thead th {\n",
       "        text-align: right;\n",
       "    }\n",
       "</style>\n",
       "<table border=\"1\" class=\"dataframe\">\n",
       "  <thead>\n",
       "    <tr style=\"text-align: right;\">\n",
       "      <th></th>\n",
       "      <th>buying</th>\n",
       "      <th>maint</th>\n",
       "      <th>doors</th>\n",
       "      <th>persons</th>\n",
       "      <th>lug_boot</th>\n",
       "      <th>safety</th>\n",
       "    </tr>\n",
       "  </thead>\n",
       "  <tbody>\n",
       "    <tr>\n",
       "      <th>0</th>\n",
       "      <td>vhigh</td>\n",
       "      <td>vhigh</td>\n",
       "      <td>2</td>\n",
       "      <td>2</td>\n",
       "      <td>small</td>\n",
       "      <td>low</td>\n",
       "    </tr>\n",
       "    <tr>\n",
       "      <th>1</th>\n",
       "      <td>vhigh</td>\n",
       "      <td>vhigh</td>\n",
       "      <td>2</td>\n",
       "      <td>2</td>\n",
       "      <td>small</td>\n",
       "      <td>med</td>\n",
       "    </tr>\n",
       "    <tr>\n",
       "      <th>2</th>\n",
       "      <td>vhigh</td>\n",
       "      <td>vhigh</td>\n",
       "      <td>2</td>\n",
       "      <td>2</td>\n",
       "      <td>small</td>\n",
       "      <td>high</td>\n",
       "    </tr>\n",
       "    <tr>\n",
       "      <th>3</th>\n",
       "      <td>vhigh</td>\n",
       "      <td>vhigh</td>\n",
       "      <td>2</td>\n",
       "      <td>2</td>\n",
       "      <td>med</td>\n",
       "      <td>low</td>\n",
       "    </tr>\n",
       "    <tr>\n",
       "      <th>4</th>\n",
       "      <td>vhigh</td>\n",
       "      <td>vhigh</td>\n",
       "      <td>2</td>\n",
       "      <td>2</td>\n",
       "      <td>med</td>\n",
       "      <td>med</td>\n",
       "    </tr>\n",
       "    <tr>\n",
       "      <th>...</th>\n",
       "      <td>...</td>\n",
       "      <td>...</td>\n",
       "      <td>...</td>\n",
       "      <td>...</td>\n",
       "      <td>...</td>\n",
       "      <td>...</td>\n",
       "    </tr>\n",
       "    <tr>\n",
       "      <th>1695</th>\n",
       "      <td>low</td>\n",
       "      <td>low</td>\n",
       "      <td>4</td>\n",
       "      <td>more</td>\n",
       "      <td>med</td>\n",
       "      <td>low</td>\n",
       "    </tr>\n",
       "    <tr>\n",
       "      <th>1696</th>\n",
       "      <td>low</td>\n",
       "      <td>low</td>\n",
       "      <td>4</td>\n",
       "      <td>more</td>\n",
       "      <td>med</td>\n",
       "      <td>med</td>\n",
       "    </tr>\n",
       "    <tr>\n",
       "      <th>1697</th>\n",
       "      <td>low</td>\n",
       "      <td>low</td>\n",
       "      <td>4</td>\n",
       "      <td>more</td>\n",
       "      <td>med</td>\n",
       "      <td>high</td>\n",
       "    </tr>\n",
       "    <tr>\n",
       "      <th>1698</th>\n",
       "      <td>low</td>\n",
       "      <td>low</td>\n",
       "      <td>4</td>\n",
       "      <td>more</td>\n",
       "      <td>big</td>\n",
       "      <td>low</td>\n",
       "    </tr>\n",
       "    <tr>\n",
       "      <th>1699</th>\n",
       "      <td>low</td>\n",
       "      <td>low</td>\n",
       "      <td>4</td>\n",
       "      <td>more</td>\n",
       "      <td>big</td>\n",
       "      <td>med</td>\n",
       "    </tr>\n",
       "  </tbody>\n",
       "</table>\n",
       "<p>1700 rows × 6 columns</p>\n",
       "</div>"
      ],
      "text/plain": [
       "     buying  maint doors persons lug_boot safety\n",
       "0     vhigh  vhigh     2       2    small    low\n",
       "1     vhigh  vhigh     2       2    small    med\n",
       "2     vhigh  vhigh     2       2    small   high\n",
       "3     vhigh  vhigh     2       2      med    low\n",
       "4     vhigh  vhigh     2       2      med    med\n",
       "...     ...    ...   ...     ...      ...    ...\n",
       "1695    low    low     4    more      med    low\n",
       "1696    low    low     4    more      med    med\n",
       "1697    low    low     4    more      med   high\n",
       "1698    low    low     4    more      big    low\n",
       "1699    low    low     4    more      big    med\n",
       "\n",
       "[1700 rows x 6 columns]"
      ]
     },
     "execution_count": 5,
     "metadata": {},
     "output_type": "execute_result"
    }
   ],
   "source": [
    "x"
   ]
  },
  {
   "cell_type": "code",
   "execution_count": 6,
   "metadata": {},
   "outputs": [
    {
     "data": {
      "text/plain": [
       "0       unacc\n",
       "1       unacc\n",
       "2       unacc\n",
       "3       unacc\n",
       "4       unacc\n",
       "        ...  \n",
       "1695    unacc\n",
       "1696     good\n",
       "1697    vgood\n",
       "1698    unacc\n",
       "1699     good\n",
       "Name: class, Length: 1700, dtype: object"
      ]
     },
     "execution_count": 6,
     "metadata": {},
     "output_type": "execute_result"
    }
   ],
   "source": [
    "y"
   ]
  },
  {
   "cell_type": "code",
   "execution_count": 7,
   "metadata": {},
   "outputs": [],
   "source": [
    "X = x.values\n",
    "Y = y.values"
   ]
  },
  {
   "cell_type": "code",
   "execution_count": 8,
   "metadata": {},
   "outputs": [
    {
     "data": {
      "text/plain": [
       "array([['vhigh', 'vhigh', '2', '2', 'small', 'low'],\n",
       "       ['vhigh', 'vhigh', '2', '2', 'small', 'med'],\n",
       "       ['vhigh', 'vhigh', '2', '2', 'small', 'high'],\n",
       "       ...,\n",
       "       ['low', 'low', '4', 'more', 'med', 'high'],\n",
       "       ['low', 'low', '4', 'more', 'big', 'low'],\n",
       "       ['low', 'low', '4', 'more', 'big', 'med']], dtype=object)"
      ]
     },
     "execution_count": 8,
     "metadata": {},
     "output_type": "execute_result"
    }
   ],
   "source": [
    "X"
   ]
  },
  {
   "cell_type": "code",
   "execution_count": 9,
   "metadata": {},
   "outputs": [
    {
     "data": {
      "text/plain": [
       "array(['unacc', 'unacc', 'unacc', ..., 'vgood', 'unacc', 'good'],\n",
       "      dtype=object)"
      ]
     },
     "execution_count": 9,
     "metadata": {},
     "output_type": "execute_result"
    }
   ],
   "source": [
    "Y"
   ]
  },
  {
   "cell_type": "code",
   "execution_count": 10,
   "metadata": {},
   "outputs": [],
   "source": [
    "from sklearn.preprocessing import LabelEncoder\n",
    "le = LabelEncoder()\n",
    "# dataset.apply(le.fit_transform)\n",
    "# X[:, [0, 1, 4, 5]] = le.fit_transform(X[:, [0, 1, 4, 5]])\n",
    "# X = le.fit_transform(X)\n",
    "X[:, 0] = le.fit_transform(X[:, 0])\n",
    "X[:, 1] = le.fit_transform(X[:, 1])\n",
    "X[:, 2] = le.fit_transform(X[:, 2])\n",
    "X[:, 3] = le.fit_transform(X[:, 3])\n",
    "X[:, 4] = le.fit_transform(X[:, 4])\n",
    "X[:, 5] = le.fit_transform(X[:, 5])"
   ]
  },
  {
   "cell_type": "code",
   "execution_count": 11,
   "metadata": {},
   "outputs": [],
   "source": [
    "from sklearn.preprocessing import MinMaxScaler\n",
    "sc = MinMaxScaler()\n",
    "X = sc.fit_transform(X)"
   ]
  },
  {
   "cell_type": "code",
   "execution_count": 12,
   "metadata": {},
   "outputs": [],
   "source": [
    "from sklearn.preprocessing import LabelBinarizer\n",
    "lb = LabelBinarizer()\n",
    "Y = lb.fit_transform(Y)"
   ]
  },
  {
   "cell_type": "code",
   "execution_count": 13,
   "metadata": {},
   "outputs": [
    {
     "data": {
      "text/plain": [
       "array([[0, 0, 1, 0],\n",
       "       [0, 0, 1, 0],\n",
       "       [0, 0, 1, 0],\n",
       "       ...,\n",
       "       [0, 0, 0, 1],\n",
       "       [0, 0, 1, 0],\n",
       "       [0, 1, 0, 0]])"
      ]
     },
     "execution_count": 13,
     "metadata": {},
     "output_type": "execute_result"
    }
   ],
   "source": [
    "Y"
   ]
  },
  {
   "cell_type": "code",
   "execution_count": 14,
   "metadata": {},
   "outputs": [
    {
     "data": {
      "text/plain": [
       "array([[1.        , 1.        , 0.        , 0.        , 1.        ,\n",
       "        0.5       ],\n",
       "       [1.        , 1.        , 0.        , 0.        , 1.        ,\n",
       "        1.        ],\n",
       "       [1.        , 1.        , 0.        , 0.        , 1.        ,\n",
       "        0.        ],\n",
       "       ...,\n",
       "       [0.33333333, 0.33333333, 0.66666667, 1.        , 0.5       ,\n",
       "        0.        ],\n",
       "       [0.33333333, 0.33333333, 0.66666667, 1.        , 0.        ,\n",
       "        0.5       ],\n",
       "       [0.33333333, 0.33333333, 0.66666667, 1.        , 0.        ,\n",
       "        1.        ]])"
      ]
     },
     "execution_count": 14,
     "metadata": {},
     "output_type": "execute_result"
    }
   ],
   "source": [
    "X"
   ]
  },
  {
   "cell_type": "code",
   "execution_count": 15,
   "metadata": {},
   "outputs": [],
   "source": [
    "from sklearn.model_selection import train_test_split\n",
    "X_train, X_test, Y_train, Y_test = train_test_split(X, Y, test_size=0.20, random_state=42)"
   ]
  },
  {
   "cell_type": "code",
   "execution_count": 16,
   "metadata": {},
   "outputs": [
    {
     "data": {
      "text/plain": [
       "(1360, 6)"
      ]
     },
     "execution_count": 16,
     "metadata": {},
     "output_type": "execute_result"
    }
   ],
   "source": [
    "X_train.shape"
   ]
  },
  {
   "cell_type": "code",
   "execution_count": 17,
   "metadata": {},
   "outputs": [],
   "source": [
    "from tensorflow.keras.models import Sequential\n",
    "from tensorflow.keras.layers import Dense\n",
    "from tensorflow.keras.optimizers import Adam"
   ]
  },
  {
   "cell_type": "code",
   "execution_count": 18,
   "metadata": {},
   "outputs": [],
   "source": [
    "# define the keras model\n",
    "model = Sequential()\n",
    "model.add(Dense(12, input_dim=6, activation='relu'))\n",
    "model.add(Dense(8, activation='relu'))\n",
    "model.add(Dense(4, activation='softmax'))\n",
    "# compile the keras model\n",
    "model.compile(loss='binary_crossentropy', optimizer=Adam(learning_rate=0.001), metrics=['accuracy'])"
   ]
  },
  {
   "cell_type": "code",
   "execution_count": 19,
   "metadata": {},
   "outputs": [
    {
     "data": {
      "text/plain": [
       "{'name': 'Adam',\n",
       " 'learning_rate': 0.001,\n",
       " 'decay': 0.0,\n",
       " 'beta_1': 0.9,\n",
       " 'beta_2': 0.999,\n",
       " 'epsilon': 1e-07,\n",
       " 'amsgrad': False}"
      ]
     },
     "execution_count": 19,
     "metadata": {},
     "output_type": "execute_result"
    }
   ],
   "source": [
    "model.optimizer.get_config()"
   ]
  },
  {
   "cell_type": "code",
   "execution_count": 20,
   "metadata": {},
   "outputs": [
    {
     "name": "stdout",
     "output_type": "stream",
     "text": [
      "Model: \"sequential\"\n",
      "_________________________________________________________________\n",
      " Layer (type)                Output Shape              Param #   \n",
      "=================================================================\n",
      " dense (Dense)               (None, 12)                84        \n",
      "                                                                 \n",
      " dense_1 (Dense)             (None, 8)                 104       \n",
      "                                                                 \n",
      " dense_2 (Dense)             (None, 4)                 36        \n",
      "                                                                 \n",
      "=================================================================\n",
      "Total params: 224\n",
      "Trainable params: 224\n",
      "Non-trainable params: 0\n",
      "_________________________________________________________________\n"
     ]
    }
   ],
   "source": [
    "model.summary()"
   ]
  },
  {
   "cell_type": "code",
   "execution_count": 21,
   "metadata": {},
   "outputs": [
    {
     "name": "stdout",
     "output_type": "stream",
     "text": [
      "Epoch 1/100\n",
      "80/80 [==============================] - 0s 772us/step - loss: 0.6487 - accuracy: 0.3713\n",
      "Epoch 2/100\n",
      "80/80 [==============================] - 0s 873us/step - loss: 0.4906 - accuracy: 0.6993\n",
      "Epoch 3/100\n",
      "80/80 [==============================] - 0s 785us/step - loss: 0.4068 - accuracy: 0.7015\n",
      "Epoch 4/100\n",
      "80/80 [==============================] - 0s 860us/step - loss: 0.3722 - accuracy: 0.7015\n",
      "Epoch 5/100\n",
      "80/80 [==============================] - 0s 810us/step - loss: 0.3533 - accuracy: 0.7015\n",
      "Epoch 6/100\n",
      "80/80 [==============================] - 0s 810us/step - loss: 0.3402 - accuracy: 0.7015\n",
      "Epoch 7/100\n",
      "80/80 [==============================] - 0s 1000us/step - loss: 0.3294 - accuracy: 0.7051\n",
      "Epoch 8/100\n",
      "80/80 [==============================] - 0s 810us/step - loss: 0.3214 - accuracy: 0.7081\n",
      "Epoch 9/100\n",
      "80/80 [==============================] - 0s 835us/step - loss: 0.3144 - accuracy: 0.7110\n",
      "Epoch 10/100\n",
      "80/80 [==============================] - 0s 848us/step - loss: 0.3090 - accuracy: 0.7125\n",
      "Epoch 11/100\n",
      "80/80 [==============================] - 0s 949us/step - loss: 0.3047 - accuracy: 0.7176\n",
      "Epoch 12/100\n",
      "80/80 [==============================] - 0s 1000us/step - loss: 0.3011 - accuracy: 0.7301\n",
      "Epoch 13/100\n",
      "80/80 [==============================] - 0s 949us/step - loss: 0.2962 - accuracy: 0.7338\n",
      "Epoch 14/100\n",
      "80/80 [==============================] - 0s 1ms/step - loss: 0.2919 - accuracy: 0.7397\n",
      "Epoch 15/100\n",
      "80/80 [==============================] - 0s 924us/step - loss: 0.2876 - accuracy: 0.7412\n",
      "Epoch 16/100\n",
      "80/80 [==============================] - 0s 911us/step - loss: 0.2827 - accuracy: 0.7471\n",
      "Epoch 17/100\n",
      "80/80 [==============================] - 0s 1000us/step - loss: 0.2772 - accuracy: 0.7478\n",
      "Epoch 18/100\n",
      "80/80 [==============================] - 0s 1ms/step - loss: 0.2728 - accuracy: 0.7551\n",
      "Epoch 19/100\n",
      "80/80 [==============================] - 0s 822us/step - loss: 0.2685 - accuracy: 0.7610\n",
      "Epoch 20/100\n",
      "80/80 [==============================] - 0s 1ms/step - loss: 0.2640 - accuracy: 0.7559\n",
      "Epoch 21/100\n",
      "80/80 [==============================] - 0s 886us/step - loss: 0.2611 - accuracy: 0.7618\n",
      "Epoch 22/100\n",
      "80/80 [==============================] - 0s 797us/step - loss: 0.2573 - accuracy: 0.7669\n",
      "Epoch 23/100\n",
      "80/80 [==============================] - 0s 1ms/step - loss: 0.2541 - accuracy: 0.7610\n",
      "Epoch 24/100\n",
      "80/80 [==============================] - 0s 898us/step - loss: 0.2502 - accuracy: 0.7713\n",
      "Epoch 25/100\n",
      "80/80 [==============================] - 0s 924us/step - loss: 0.2476 - accuracy: 0.7713\n",
      "Epoch 26/100\n",
      "80/80 [==============================] - 0s 1ms/step - loss: 0.2441 - accuracy: 0.7713\n",
      "Epoch 27/100\n",
      "80/80 [==============================] - 0s 785us/step - loss: 0.2419 - accuracy: 0.7787\n",
      "Epoch 28/100\n",
      "80/80 [==============================] - 0s 760us/step - loss: 0.2382 - accuracy: 0.7831\n",
      "Epoch 29/100\n",
      "80/80 [==============================] - 0s 898us/step - loss: 0.2348 - accuracy: 0.7890\n",
      "Epoch 30/100\n",
      "80/80 [==============================] - 0s 936us/step - loss: 0.2323 - accuracy: 0.7868\n",
      "Epoch 31/100\n",
      "80/80 [==============================] - 0s 772us/step - loss: 0.2287 - accuracy: 0.7934\n",
      "Epoch 32/100\n",
      "80/80 [==============================] - 0s 873us/step - loss: 0.2260 - accuracy: 0.7897\n",
      "Epoch 33/100\n",
      "80/80 [==============================] - 0s 823us/step - loss: 0.2229 - accuracy: 0.7971\n",
      "Epoch 34/100\n",
      "80/80 [==============================] - 0s 886us/step - loss: 0.2198 - accuracy: 0.8051\n",
      "Epoch 35/100\n",
      "80/80 [==============================] - 0s 797us/step - loss: 0.2168 - accuracy: 0.8074\n",
      "Epoch 36/100\n",
      "80/80 [==============================] - 0s 856us/step - loss: 0.2138 - accuracy: 0.8081\n",
      "Epoch 37/100\n",
      "80/80 [==============================] - 0s 878us/step - loss: 0.2106 - accuracy: 0.8103\n",
      "Epoch 38/100\n",
      "80/80 [==============================] - 0s 888us/step - loss: 0.2087 - accuracy: 0.8125\n",
      "Epoch 39/100\n",
      "80/80 [==============================] - 0s 827us/step - loss: 0.2062 - accuracy: 0.8103\n",
      "Epoch 40/100\n",
      "80/80 [==============================] - 0s 888us/step - loss: 0.2032 - accuracy: 0.8140\n",
      "Epoch 41/100\n",
      "80/80 [==============================] - 0s 810us/step - loss: 0.2005 - accuracy: 0.8235\n",
      "Epoch 42/100\n",
      "80/80 [==============================] - 0s 835us/step - loss: 0.1985 - accuracy: 0.8257\n",
      "Epoch 43/100\n",
      "80/80 [==============================] - 0s 886us/step - loss: 0.1960 - accuracy: 0.8176\n",
      "Epoch 44/100\n",
      "80/80 [==============================] - 0s 873us/step - loss: 0.1941 - accuracy: 0.8279\n",
      "Epoch 45/100\n",
      "80/80 [==============================] - 0s 908us/step - loss: 0.1917 - accuracy: 0.8250\n",
      "Epoch 46/100\n",
      "80/80 [==============================] - 0s 871us/step - loss: 0.1895 - accuracy: 0.8287\n",
      "Epoch 47/100\n",
      "80/80 [==============================] - 0s 866us/step - loss: 0.1880 - accuracy: 0.8346\n",
      "Epoch 48/100\n",
      "80/80 [==============================] - 0s 1ms/step - loss: 0.1872 - accuracy: 0.8338\n",
      "Epoch 49/100\n",
      "80/80 [==============================] - 0s 822us/step - loss: 0.1850 - accuracy: 0.8368\n",
      "Epoch 50/100\n",
      "80/80 [==============================] - 0s 797us/step - loss: 0.1832 - accuracy: 0.8331\n",
      "Epoch 51/100\n",
      "80/80 [==============================] - 0s 949us/step - loss: 0.1823 - accuracy: 0.8353\n",
      "Epoch 52/100\n",
      "80/80 [==============================] - 0s 861us/step - loss: 0.1818 - accuracy: 0.8368\n",
      "Epoch 53/100\n",
      "80/80 [==============================] - 0s 823us/step - loss: 0.1797 - accuracy: 0.8375\n",
      "Epoch 54/100\n",
      "80/80 [==============================] - 0s 886us/step - loss: 0.1783 - accuracy: 0.8375\n",
      "Epoch 55/100\n",
      "80/80 [==============================] - 0s 886us/step - loss: 0.1774 - accuracy: 0.8412\n",
      "Epoch 56/100\n",
      "80/80 [==============================] - 0s 785us/step - loss: 0.1764 - accuracy: 0.8338\n",
      "Epoch 57/100\n",
      "80/80 [==============================] - 0s 860us/step - loss: 0.1755 - accuracy: 0.8360\n",
      "Epoch 58/100\n",
      "80/80 [==============================] - 0s 1ms/step - loss: 0.1742 - accuracy: 0.8404\n",
      "Epoch 59/100\n",
      "80/80 [==============================] - 0s 1000us/step - loss: 0.1739 - accuracy: 0.8404\n",
      "Epoch 60/100\n",
      "80/80 [==============================] - 0s 1ms/step - loss: 0.1727 - accuracy: 0.8456\n",
      "Epoch 61/100\n",
      "80/80 [==============================] - 0s 962us/step - loss: 0.1721 - accuracy: 0.8397\n",
      "Epoch 62/100\n",
      "80/80 [==============================] - 0s 962us/step - loss: 0.1712 - accuracy: 0.8456\n",
      "Epoch 63/100\n",
      "80/80 [==============================] - 0s 962us/step - loss: 0.1702 - accuracy: 0.8441\n",
      "Epoch 64/100\n",
      "80/80 [==============================] - 0s 975us/step - loss: 0.1692 - accuracy: 0.8404\n",
      "Epoch 65/100\n",
      "80/80 [==============================] - 0s 924us/step - loss: 0.1681 - accuracy: 0.8449\n",
      "Epoch 66/100\n",
      "80/80 [==============================] - 0s 1ms/step - loss: 0.1680 - accuracy: 0.8485\n",
      "Epoch 67/100\n",
      "80/80 [==============================] - 0s 987us/step - loss: 0.1678 - accuracy: 0.8485\n",
      "Epoch 68/100\n",
      "80/80 [==============================] - 0s 1ms/step - loss: 0.1671 - accuracy: 0.8426\n",
      "Epoch 69/100\n",
      "80/80 [==============================] - 0s 873us/step - loss: 0.1654 - accuracy: 0.8500\n",
      "Epoch 70/100\n",
      "80/80 [==============================] - 0s 860us/step - loss: 0.1645 - accuracy: 0.8529\n",
      "Epoch 71/100\n",
      "80/80 [==============================] - 0s 898us/step - loss: 0.1638 - accuracy: 0.8485\n",
      "Epoch 72/100\n",
      "80/80 [==============================] - 0s 797us/step - loss: 0.1642 - accuracy: 0.8500\n",
      "Epoch 73/100\n",
      "80/80 [==============================] - 0s 823us/step - loss: 0.1624 - accuracy: 0.8507\n",
      "Epoch 74/100\n",
      "80/80 [==============================] - 0s 848us/step - loss: 0.1629 - accuracy: 0.8434\n",
      "Epoch 75/100\n",
      "80/80 [==============================] - 0s 823us/step - loss: 0.1609 - accuracy: 0.8515\n",
      "Epoch 76/100\n",
      "80/80 [==============================] - 0s 759us/step - loss: 0.1609 - accuracy: 0.8493\n",
      "Epoch 77/100\n",
      "80/80 [==============================] - 0s 898us/step - loss: 0.1602 - accuracy: 0.8574\n",
      "Epoch 78/100\n",
      "80/80 [==============================] - 0s 848us/step - loss: 0.1602 - accuracy: 0.8529\n",
      "Epoch 79/100\n",
      "80/80 [==============================] - 0s 810us/step - loss: 0.1589 - accuracy: 0.8537\n",
      "Epoch 80/100\n",
      "80/80 [==============================] - 0s 848us/step - loss: 0.1594 - accuracy: 0.8537\n",
      "Epoch 81/100\n",
      "80/80 [==============================] - 0s 810us/step - loss: 0.1581 - accuracy: 0.8566\n",
      "Epoch 82/100\n",
      "80/80 [==============================] - 0s 911us/step - loss: 0.1578 - accuracy: 0.8581\n",
      "Epoch 83/100\n",
      "80/80 [==============================] - 0s 810us/step - loss: 0.1569 - accuracy: 0.8588\n",
      "Epoch 84/100\n",
      "80/80 [==============================] - 0s 822us/step - loss: 0.1562 - accuracy: 0.8596\n",
      "Epoch 85/100\n",
      "80/80 [==============================] - 0s 835us/step - loss: 0.1558 - accuracy: 0.8632\n",
      "Epoch 86/100\n",
      "80/80 [==============================] - 0s 835us/step - loss: 0.1554 - accuracy: 0.8559\n",
      "Epoch 87/100\n",
      "80/80 [==============================] - 0s 835us/step - loss: 0.1553 - accuracy: 0.8632\n",
      "Epoch 88/100\n",
      "80/80 [==============================] - 0s 823us/step - loss: 0.1546 - accuracy: 0.8610\n",
      "Epoch 89/100\n",
      "80/80 [==============================] - 0s 810us/step - loss: 0.1541 - accuracy: 0.8603\n",
      "Epoch 90/100\n",
      "80/80 [==============================] - 0s 886us/step - loss: 0.1545 - accuracy: 0.8603\n",
      "Epoch 91/100\n",
      "80/80 [==============================] - 0s 1ms/step - loss: 0.1538 - accuracy: 0.8610\n",
      "Epoch 92/100\n",
      "80/80 [==============================] - 0s 987us/step - loss: 0.1529 - accuracy: 0.8676\n",
      "Epoch 93/100\n",
      "80/80 [==============================] - 0s 823us/step - loss: 0.1532 - accuracy: 0.8632\n",
      "Epoch 94/100\n",
      "80/80 [==============================] - 0s 962us/step - loss: 0.1518 - accuracy: 0.8691\n",
      "Epoch 95/100\n",
      "80/80 [==============================] - 0s 830us/step - loss: 0.1521 - accuracy: 0.8654\n",
      "Epoch 96/100\n",
      "80/80 [==============================] - 0s 797us/step - loss: 0.1511 - accuracy: 0.8640\n",
      "Epoch 97/100\n",
      "80/80 [==============================] - 0s 747us/step - loss: 0.1508 - accuracy: 0.8618\n",
      "Epoch 98/100\n",
      "80/80 [==============================] - 0s 886us/step - loss: 0.1513 - accuracy: 0.8625\n",
      "Epoch 99/100\n",
      "80/80 [==============================] - 0s 898us/step - loss: 0.1510 - accuracy: 0.8676\n",
      "Epoch 100/100\n",
      "80/80 [==============================] - 0s 759us/step - loss: 0.1504 - accuracy: 0.8596\n"
     ]
    }
   ],
   "source": [
    "hist = model.fit(X_train, Y_train, epochs=100, batch_size=17)"
   ]
  },
  {
   "cell_type": "code",
   "execution_count": 22,
   "metadata": {},
   "outputs": [],
   "source": [
    "acc = hist.history['accuracy']\n",
    "loss = hist.history['loss']"
   ]
  },
  {
   "cell_type": "code",
   "execution_count": 23,
   "metadata": {},
   "outputs": [
    {
     "data": {
      "image/png": "[encoded data removed]",
      "text/plain": [
       "<Figure size 432x288 with 1 Axes>"
      ]
     },
     "metadata": {
      "needs_background": "light"
     },
     "output_type": "display_data"
    },
    {
     "data": {
      "text/plain": [
       "<Figure size 432x288 with 0 Axes>"
      ]
     },
     "metadata": {},
     "output_type": "display_data"
    }
   ],
   "source": [
    "from matplotlib import pyplot as plt\n",
    "# plot training accuracy\n",
    "plt.plot(acc, color='blue')\n",
    "plt.title('Model Accuracy', color='green')\n",
    "plt.ylabel('accuracy', color='green')\n",
    "plt.xlabel('epoch', color='green')\n",
    "plt.legend(['train'], loc='lower right')\n",
    "plt.show()\n",
    "plt.savefig('accuracy_curve.png')"
   ]
  },
  {
   "cell_type": "code",
   "execution_count": 24,
   "metadata": {},
   "outputs": [
    {
     "data": {
      "image/png": "[encoded data removed]",
      "text/plain": [
       "<Figure size 432x288 with 1 Axes>"
      ]
     },
     "metadata": {
      "needs_background": "light"
     },
     "output_type": "display_data"
    },
    {
     "data": {
      "text/plain": [
       "<Figure size 432x288 with 0 Axes>"
      ]
     },
     "metadata": {},
     "output_type": "display_data"
    }
   ],
   "source": [
    "# plot training loss\n",
    "plt.plot(loss, color='red')\n",
    "plt.title('Model Loss', color='green')\n",
    "plt.ylabel('loss', color='green')\n",
    "plt.xlabel('epoch', color='green')\n",
    "plt.legend(['train'], loc='upper right')\n",
    "plt.show()\n",
    "plt.savefig('loss_curve.png')"
   ]
  },
  {
   "cell_type": "code",
   "execution_count": 25,
   "metadata": {},
   "outputs": [
    {
     "name": "stdout",
     "output_type": "stream",
     "text": [
      "11/11 [==============================] - 0s 1ms/step - loss: 0.1740 - accuracy: 0.8353\n"
     ]
    }
   ],
   "source": [
    "history_test = model.evaluate(X_test, Y_test)"
   ]
  },
  {
   "cell_type": "code",
   "execution_count": 26,
   "metadata": {},
   "outputs": [
    {
     "data": {
      "text/plain": [
       "[0.17397943139076233, 0.8352941274642944]"
      ]
     },
     "execution_count": 26,
     "metadata": {},
     "output_type": "execute_result"
    }
   ],
   "source": [
    "history_test"
   ]
  }
 ],
 "metadata": {
  "interpreter": {
   "hash": "243097d9b82650434a57d5e2c1290a3e5ae4cf3af9d9da437ed42734f0bb881c"
  },
  "kernelspec": {
   "display_name": "Python 3.9.7 64-bit",
   "language": "python",
   "name": "python3"
  },
  "language_info": {
   "codemirror_mode": {
    "name": "ipython",
    "version": 3
   },
   "file_extension": ".py",
   "mimetype": "text/x-python",
   "name": "python",
   "nbconvert_exporter": "python",
   "pygments_lexer": "ipython3",
   "version": "3.9.7"
  },
  "orig_nbformat": 4
 },
 "nbformat": 4,
 "nbformat_minor": 2
}
