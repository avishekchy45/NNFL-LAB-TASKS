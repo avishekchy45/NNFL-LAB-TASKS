{
 "cells": [
  {
   "cell_type": "code",
   "execution_count": 1,
   "metadata": {},
   "outputs": [],
   "source": [
    "import pandas as pd\n",
    "dataset = pd.read_csv('car.csv')"
   ]
  },
  {
   "cell_type": "code",
   "execution_count": 2,
   "metadata": {},
   "outputs": [
    {
     "data": {
      "text/html": [
       "<div>\n",
       "<style scoped>\n",
       "    .dataframe tbody tr th:only-of-type {\n",
       "        vertical-align: middle;\n",
       "    }\n",
       "\n",
       "    .dataframe tbody tr th {\n",
       "        vertical-align: top;\n",
       "    }\n",
       "\n",
       "    .dataframe thead th {\n",
       "        text-align: right;\n",
       "    }\n",
       "</style>\n",
       "<table border=\"1\" class=\"dataframe\">\n",
       "  <thead>\n",
       "    <tr style=\"text-align: right;\">\n",
       "      <th></th>\n",
       "      <th>buying</th>\n",
       "      <th>maint</th>\n",
       "      <th>doors</th>\n",
       "      <th>persons</th>\n",
       "      <th>lug_boot</th>\n",
       "      <th>safety</th>\n",
       "      <th>class</th>\n",
       "    </tr>\n",
       "  </thead>\n",
       "  <tbody>\n",
       "    <tr>\n",
       "      <th>0</th>\n",
       "      <td>vhigh</td>\n",
       "      <td>vhigh</td>\n",
       "      <td>2</td>\n",
       "      <td>2</td>\n",
       "      <td>small</td>\n",
       "      <td>low</td>\n",
       "      <td>unacc</td>\n",
       "    </tr>\n",
       "    <tr>\n",
       "      <th>1</th>\n",
       "      <td>vhigh</td>\n",
       "      <td>vhigh</td>\n",
       "      <td>2</td>\n",
       "      <td>2</td>\n",
       "      <td>small</td>\n",
       "      <td>med</td>\n",
       "      <td>unacc</td>\n",
       "    </tr>\n",
       "    <tr>\n",
       "      <th>2</th>\n",
       "      <td>vhigh</td>\n",
       "      <td>vhigh</td>\n",
       "      <td>2</td>\n",
       "      <td>2</td>\n",
       "      <td>small</td>\n",
       "      <td>high</td>\n",
       "      <td>unacc</td>\n",
       "    </tr>\n",
       "    <tr>\n",
       "      <th>3</th>\n",
       "      <td>vhigh</td>\n",
       "      <td>vhigh</td>\n",
       "      <td>2</td>\n",
       "      <td>2</td>\n",
       "      <td>med</td>\n",
       "      <td>low</td>\n",
       "      <td>unacc</td>\n",
       "    </tr>\n",
       "    <tr>\n",
       "      <th>4</th>\n",
       "      <td>vhigh</td>\n",
       "      <td>vhigh</td>\n",
       "      <td>2</td>\n",
       "      <td>2</td>\n",
       "      <td>med</td>\n",
       "      <td>med</td>\n",
       "      <td>unacc</td>\n",
       "    </tr>\n",
       "    <tr>\n",
       "      <th>...</th>\n",
       "      <td>...</td>\n",
       "      <td>...</td>\n",
       "      <td>...</td>\n",
       "      <td>...</td>\n",
       "      <td>...</td>\n",
       "      <td>...</td>\n",
       "      <td>...</td>\n",
       "    </tr>\n",
       "    <tr>\n",
       "      <th>1695</th>\n",
       "      <td>low</td>\n",
       "      <td>low</td>\n",
       "      <td>4</td>\n",
       "      <td>more</td>\n",
       "      <td>med</td>\n",
       "      <td>low</td>\n",
       "      <td>unacc</td>\n",
       "    </tr>\n",
       "    <tr>\n",
       "      <th>1696</th>\n",
       "      <td>low</td>\n",
       "      <td>low</td>\n",
       "      <td>4</td>\n",
       "      <td>more</td>\n",
       "      <td>med</td>\n",
       "      <td>med</td>\n",
       "      <td>good</td>\n",
       "    </tr>\n",
       "    <tr>\n",
       "      <th>1697</th>\n",
       "      <td>low</td>\n",
       "      <td>low</td>\n",
       "      <td>4</td>\n",
       "      <td>more</td>\n",
       "      <td>med</td>\n",
       "      <td>high</td>\n",
       "      <td>vgood</td>\n",
       "    </tr>\n",
       "    <tr>\n",
       "      <th>1698</th>\n",
       "      <td>low</td>\n",
       "      <td>low</td>\n",
       "      <td>4</td>\n",
       "      <td>more</td>\n",
       "      <td>big</td>\n",
       "      <td>low</td>\n",
       "      <td>unacc</td>\n",
       "    </tr>\n",
       "    <tr>\n",
       "      <th>1699</th>\n",
       "      <td>low</td>\n",
       "      <td>low</td>\n",
       "      <td>4</td>\n",
       "      <td>more</td>\n",
       "      <td>big</td>\n",
       "      <td>med</td>\n",
       "      <td>good</td>\n",
       "    </tr>\n",
       "  </tbody>\n",
       "</table>\n",
       "<p>1700 rows × 7 columns</p>\n",
       "</div>"
      ],
      "text/plain": [
       "     buying  maint doors persons lug_boot safety  class\n",
       "0     vhigh  vhigh     2       2    small    low  unacc\n",
       "1     vhigh  vhigh     2       2    small    med  unacc\n",
       "2     vhigh  vhigh     2       2    small   high  unacc\n",
       "3     vhigh  vhigh     2       2      med    low  unacc\n",
       "4     vhigh  vhigh     2       2      med    med  unacc\n",
       "...     ...    ...   ...     ...      ...    ...    ...\n",
       "1695    low    low     4    more      med    low  unacc\n",
       "1696    low    low     4    more      med    med   good\n",
       "1697    low    low     4    more      med   high  vgood\n",
       "1698    low    low     4    more      big    low  unacc\n",
       "1699    low    low     4    more      big    med   good\n",
       "\n",
       "[1700 rows x 7 columns]"
      ]
     },
     "execution_count": 2,
     "metadata": {},
     "output_type": "execute_result"
    }
   ],
   "source": [
    "dataset"
   ]
  },
  {
   "cell_type": "code",
   "execution_count": 3,
   "metadata": {},
   "outputs": [],
   "source": [
    "from sklearn.preprocessing import LabelEncoder\n",
    "le = LabelEncoder()\n",
    "dataset = dataset.apply(le.fit_transform)"
   ]
  },
  {
   "cell_type": "code",
   "execution_count": 4,
   "metadata": {},
   "outputs": [],
   "source": [
    "x = dataset.iloc[:, 0:6]\n",
    "y = dataset.iloc[:, -1]"
   ]
  },
  {
   "cell_type": "code",
   "execution_count": 5,
   "metadata": {},
   "outputs": [
    {
     "data": {
      "text/html": [
       "<div>\n",
       "<style scoped>\n",
       "    .dataframe tbody tr th:only-of-type {\n",
       "        vertical-align: middle;\n",
       "    }\n",
       "\n",
       "    .dataframe tbody tr th {\n",
       "        vertical-align: top;\n",
       "    }\n",
       "\n",
       "    .dataframe thead th {\n",
       "        text-align: right;\n",
       "    }\n",
       "</style>\n",
       "<table border=\"1\" class=\"dataframe\">\n",
       "  <thead>\n",
       "    <tr style=\"text-align: right;\">\n",
       "      <th></th>\n",
       "      <th>buying</th>\n",
       "      <th>maint</th>\n",
       "      <th>doors</th>\n",
       "      <th>persons</th>\n",
       "      <th>lug_boot</th>\n",
       "      <th>safety</th>\n",
       "    </tr>\n",
       "  </thead>\n",
       "  <tbody>\n",
       "    <tr>\n",
       "      <th>0</th>\n",
       "      <td>3</td>\n",
       "      <td>3</td>\n",
       "      <td>0</td>\n",
       "      <td>0</td>\n",
       "      <td>2</td>\n",
       "      <td>1</td>\n",
       "    </tr>\n",
       "    <tr>\n",
       "      <th>1</th>\n",
       "      <td>3</td>\n",
       "      <td>3</td>\n",
       "      <td>0</td>\n",
       "      <td>0</td>\n",
       "      <td>2</td>\n",
       "      <td>2</td>\n",
       "    </tr>\n",
       "    <tr>\n",
       "      <th>2</th>\n",
       "      <td>3</td>\n",
       "      <td>3</td>\n",
       "      <td>0</td>\n",
       "      <td>0</td>\n",
       "      <td>2</td>\n",
       "      <td>0</td>\n",
       "    </tr>\n",
       "    <tr>\n",
       "      <th>3</th>\n",
       "      <td>3</td>\n",
       "      <td>3</td>\n",
       "      <td>0</td>\n",
       "      <td>0</td>\n",
       "      <td>1</td>\n",
       "      <td>1</td>\n",
       "    </tr>\n",
       "    <tr>\n",
       "      <th>4</th>\n",
       "      <td>3</td>\n",
       "      <td>3</td>\n",
       "      <td>0</td>\n",
       "      <td>0</td>\n",
       "      <td>1</td>\n",
       "      <td>2</td>\n",
       "    </tr>\n",
       "    <tr>\n",
       "      <th>...</th>\n",
       "      <td>...</td>\n",
       "      <td>...</td>\n",
       "      <td>...</td>\n",
       "      <td>...</td>\n",
       "      <td>...</td>\n",
       "      <td>...</td>\n",
       "    </tr>\n",
       "    <tr>\n",
       "      <th>1695</th>\n",
       "      <td>1</td>\n",
       "      <td>1</td>\n",
       "      <td>2</td>\n",
       "      <td>2</td>\n",
       "      <td>1</td>\n",
       "      <td>1</td>\n",
       "    </tr>\n",
       "    <tr>\n",
       "      <th>1696</th>\n",
       "      <td>1</td>\n",
       "      <td>1</td>\n",
       "      <td>2</td>\n",
       "      <td>2</td>\n",
       "      <td>1</td>\n",
       "      <td>2</td>\n",
       "    </tr>\n",
       "    <tr>\n",
       "      <th>1697</th>\n",
       "      <td>1</td>\n",
       "      <td>1</td>\n",
       "      <td>2</td>\n",
       "      <td>2</td>\n",
       "      <td>1</td>\n",
       "      <td>0</td>\n",
       "    </tr>\n",
       "    <tr>\n",
       "      <th>1698</th>\n",
       "      <td>1</td>\n",
       "      <td>1</td>\n",
       "      <td>2</td>\n",
       "      <td>2</td>\n",
       "      <td>0</td>\n",
       "      <td>1</td>\n",
       "    </tr>\n",
       "    <tr>\n",
       "      <th>1699</th>\n",
       "      <td>1</td>\n",
       "      <td>1</td>\n",
       "      <td>2</td>\n",
       "      <td>2</td>\n",
       "      <td>0</td>\n",
       "      <td>2</td>\n",
       "    </tr>\n",
       "  </tbody>\n",
       "</table>\n",
       "<p>1700 rows × 6 columns</p>\n",
       "</div>"
      ],
      "text/plain": [
       "      buying  maint  doors  persons  lug_boot  safety\n",
       "0          3      3      0        0         2       1\n",
       "1          3      3      0        0         2       2\n",
       "2          3      3      0        0         2       0\n",
       "3          3      3      0        0         1       1\n",
       "4          3      3      0        0         1       2\n",
       "...      ...    ...    ...      ...       ...     ...\n",
       "1695       1      1      2        2         1       1\n",
       "1696       1      1      2        2         1       2\n",
       "1697       1      1      2        2         1       0\n",
       "1698       1      1      2        2         0       1\n",
       "1699       1      1      2        2         0       2\n",
       "\n",
       "[1700 rows x 6 columns]"
      ]
     },
     "execution_count": 5,
     "metadata": {},
     "output_type": "execute_result"
    }
   ],
   "source": [
    "x"
   ]
  },
  {
   "cell_type": "code",
   "execution_count": 6,
   "metadata": {},
   "outputs": [
    {
     "data": {
      "text/plain": [
       "0       2\n",
       "1       2\n",
       "2       2\n",
       "3       2\n",
       "4       2\n",
       "       ..\n",
       "1695    2\n",
       "1696    1\n",
       "1697    3\n",
       "1698    2\n",
       "1699    1\n",
       "Name: class, Length: 1700, dtype: int32"
      ]
     },
     "execution_count": 6,
     "metadata": {},
     "output_type": "execute_result"
    }
   ],
   "source": [
    "y"
   ]
  },
  {
   "cell_type": "code",
   "execution_count": 7,
   "metadata": {},
   "outputs": [],
   "source": [
    "X = x.values\n",
    "Y = y.values"
   ]
  },
  {
   "cell_type": "code",
   "execution_count": 8,
   "metadata": {},
   "outputs": [
    {
     "data": {
      "text/plain": [
       "array([[3, 3, 0, 0, 2, 1],\n",
       "       [3, 3, 0, 0, 2, 2],\n",
       "       [3, 3, 0, 0, 2, 0],\n",
       "       ...,\n",
       "       [1, 1, 2, 2, 1, 0],\n",
       "       [1, 1, 2, 2, 0, 1],\n",
       "       [1, 1, 2, 2, 0, 2]])"
      ]
     },
     "execution_count": 8,
     "metadata": {},
     "output_type": "execute_result"
    }
   ],
   "source": [
    "X"
   ]
  },
  {
   "cell_type": "code",
   "execution_count": 9,
   "metadata": {},
   "outputs": [
    {
     "data": {
      "text/plain": [
       "array([2, 2, 2, ..., 3, 2, 1])"
      ]
     },
     "execution_count": 9,
     "metadata": {},
     "output_type": "execute_result"
    }
   ],
   "source": [
    "Y"
   ]
  },
  {
   "cell_type": "code",
   "execution_count": 10,
   "metadata": {},
   "outputs": [],
   "source": [
    "from sklearn.preprocessing import MinMaxScaler\n",
    "sc = MinMaxScaler()\n",
    "X = sc.fit_transform(X)"
   ]
  },
  {
   "cell_type": "code",
   "execution_count": 11,
   "metadata": {},
   "outputs": [],
   "source": [
    "from sklearn.preprocessing import LabelBinarizer\n",
    "lb = LabelBinarizer()\n",
    "Y = lb.fit_transform(Y)"
   ]
  },
  {
   "cell_type": "code",
   "execution_count": 12,
   "metadata": {},
   "outputs": [
    {
     "data": {
      "text/plain": [
       "array([[0, 0, 1, 0],\n",
       "       [0, 0, 1, 0],\n",
       "       [0, 0, 1, 0],\n",
       "       ...,\n",
       "       [0, 0, 0, 1],\n",
       "       [0, 0, 1, 0],\n",
       "       [0, 1, 0, 0]])"
      ]
     },
     "execution_count": 12,
     "metadata": {},
     "output_type": "execute_result"
    }
   ],
   "source": [
    "Y"
   ]
  },
  {
   "cell_type": "code",
   "execution_count": 13,
   "metadata": {},
   "outputs": [
    {
     "data": {
      "text/plain": [
       "array([[1.        , 1.        , 0.        , 0.        , 1.        ,\n",
       "        0.5       ],\n",
       "       [1.        , 1.        , 0.        , 0.        , 1.        ,\n",
       "        1.        ],\n",
       "       [1.        , 1.        , 0.        , 0.        , 1.        ,\n",
       "        0.        ],\n",
       "       ...,\n",
       "       [0.33333333, 0.33333333, 0.66666667, 1.        , 0.5       ,\n",
       "        0.        ],\n",
       "       [0.33333333, 0.33333333, 0.66666667, 1.        , 0.        ,\n",
       "        0.5       ],\n",
       "       [0.33333333, 0.33333333, 0.66666667, 1.        , 0.        ,\n",
       "        1.        ]])"
      ]
     },
     "execution_count": 13,
     "metadata": {},
     "output_type": "execute_result"
    }
   ],
   "source": [
    "X"
   ]
  },
  {
   "cell_type": "code",
   "execution_count": 14,
   "metadata": {},
   "outputs": [],
   "source": [
    "from sklearn.model_selection import train_test_split\n",
    "X_train, X_test, Y_train, Y_test = train_test_split(X, Y, test_size=0.20, random_state=42)"
   ]
  },
  {
   "cell_type": "code",
   "execution_count": 15,
   "metadata": {},
   "outputs": [
    {
     "data": {
      "text/plain": [
       "(1360, 6)"
      ]
     },
     "execution_count": 15,
     "metadata": {},
     "output_type": "execute_result"
    }
   ],
   "source": [
    "X_train.shape"
   ]
  },
  {
   "cell_type": "code",
   "execution_count": 16,
   "metadata": {},
   "outputs": [],
   "source": [
    "from tensorflow.keras.models import Sequential\n",
    "from tensorflow.keras.layers import Dense\n",
    "from tensorflow.keras.optimizers import Adam"
   ]
  },
  {
   "cell_type": "code",
   "execution_count": 17,
   "metadata": {},
   "outputs": [],
   "source": [
    "# define the keras model\n",
    "model = Sequential()\n",
    "model.add(Dense(12, input_dim=6, activation='relu'))\n",
    "model.add(Dense(8, activation='relu'))\n",
    "model.add(Dense(4, activation='softmax'))\n",
    "# compile the keras model\n",
    "model.compile(loss='binary_crossentropy', optimizer=Adam(learning_rate=0.01), metrics=['accuracy'])"
   ]
  },
  {
   "cell_type": "code",
   "execution_count": 18,
   "metadata": {},
   "outputs": [
    {
     "data": {
      "text/plain": [
       "{'name': 'Adam',\n",
       " 'learning_rate': 0.01,\n",
       " 'decay': 0.0,\n",
       " 'beta_1': 0.9,\n",
       " 'beta_2': 0.999,\n",
       " 'epsilon': 1e-07,\n",
       " 'amsgrad': False}"
      ]
     },
     "execution_count": 18,
     "metadata": {},
     "output_type": "execute_result"
    }
   ],
   "source": [
    "model.optimizer.get_config()"
   ]
  },
  {
   "cell_type": "code",
   "execution_count": 19,
   "metadata": {},
   "outputs": [
    {
     "name": "stdout",
     "output_type": "stream",
     "text": [
      "Model: \"sequential\"\n",
      "_________________________________________________________________\n",
      " Layer (type)                Output Shape              Param #   \n",
      "=================================================================\n",
      " dense (Dense)               (None, 12)                84        \n",
      "                                                                 \n",
      " dense_1 (Dense)             (None, 8)                 104       \n",
      "                                                                 \n",
      " dense_2 (Dense)             (None, 4)                 36        \n",
      "                                                                 \n",
      "=================================================================\n",
      "Total params: 224\n",
      "Trainable params: 224\n",
      "Non-trainable params: 0\n",
      "_________________________________________________________________\n"
     ]
    }
   ],
   "source": [
    "model.summary()"
   ]
  },
  {
   "cell_type": "code",
   "execution_count": 20,
   "metadata": {},
   "outputs": [
    {
     "name": "stdout",
     "output_type": "stream",
     "text": [
      "Epoch 1/100\n",
      "80/80 [==============================] - 0s 815us/step - loss: 0.3871 - accuracy: 0.7015\n",
      "Epoch 2/100\n",
      "80/80 [==============================] - 0s 707us/step - loss: 0.2787 - accuracy: 0.7441\n",
      "Epoch 3/100\n",
      "80/80 [==============================] - 0s 825us/step - loss: 0.2461 - accuracy: 0.7728\n",
      "Epoch 4/100\n",
      "80/80 [==============================] - 0s 840us/step - loss: 0.2173 - accuracy: 0.8074\n",
      "Epoch 5/100\n",
      "80/80 [==============================] - 0s 830us/step - loss: 0.1972 - accuracy: 0.8221\n",
      "Epoch 6/100\n",
      "80/80 [==============================] - 0s 837us/step - loss: 0.1816 - accuracy: 0.8426\n",
      "Epoch 7/100\n",
      "80/80 [==============================] - 0s 847us/step - loss: 0.1652 - accuracy: 0.8625\n",
      "Epoch 8/100\n",
      "80/80 [==============================] - 0s 826us/step - loss: 0.1536 - accuracy: 0.8647\n",
      "Epoch 9/100\n",
      "80/80 [==============================] - 0s 802us/step - loss: 0.1477 - accuracy: 0.8706\n",
      "Epoch 10/100\n",
      "80/80 [==============================] - 0s 825us/step - loss: 0.1390 - accuracy: 0.8801\n",
      "Epoch 11/100\n",
      "80/80 [==============================] - 0s 820us/step - loss: 0.1359 - accuracy: 0.8801\n",
      "Epoch 12/100\n",
      "80/80 [==============================] - 0s 801us/step - loss: 0.1265 - accuracy: 0.8853\n",
      "Epoch 13/100\n",
      "80/80 [==============================] - 0s 814us/step - loss: 0.1285 - accuracy: 0.8787\n",
      "Epoch 14/100\n",
      "80/80 [==============================] - 0s 796us/step - loss: 0.1228 - accuracy: 0.8897\n",
      "Epoch 15/100\n",
      "80/80 [==============================] - 0s 840us/step - loss: 0.1112 - accuracy: 0.9169\n",
      "Epoch 16/100\n",
      "80/80 [==============================] - 0s 806us/step - loss: 0.1123 - accuracy: 0.9118\n",
      "Epoch 17/100\n",
      "80/80 [==============================] - 0s 775us/step - loss: 0.0995 - accuracy: 0.9309\n",
      "Epoch 18/100\n",
      "80/80 [==============================] - 0s 815us/step - loss: 0.0968 - accuracy: 0.9279\n",
      "Epoch 19/100\n",
      "80/80 [==============================] - 0s 780us/step - loss: 0.0981 - accuracy: 0.9257\n",
      "Epoch 20/100\n",
      "80/80 [==============================] - 0s 790us/step - loss: 0.0873 - accuracy: 0.9375\n",
      "Epoch 21/100\n",
      "80/80 [==============================] - 0s 824us/step - loss: 0.0887 - accuracy: 0.9301\n",
      "Epoch 22/100\n",
      "80/80 [==============================] - 0s 802us/step - loss: 0.0807 - accuracy: 0.9434\n",
      "Epoch 23/100\n",
      "80/80 [==============================] - 0s 801us/step - loss: 0.0766 - accuracy: 0.9441\n",
      "Epoch 24/100\n",
      "80/80 [==============================] - 0s 858us/step - loss: 0.0787 - accuracy: 0.9397\n",
      "Epoch 25/100\n",
      "80/80 [==============================] - 0s 833us/step - loss: 0.0795 - accuracy: 0.9360\n",
      "Epoch 26/100\n",
      "80/80 [==============================] - 0s 761us/step - loss: 0.0755 - accuracy: 0.9471\n",
      "Epoch 27/100\n",
      "80/80 [==============================] - 0s 941us/step - loss: 0.0648 - accuracy: 0.9537\n",
      "Epoch 28/100\n",
      "80/80 [==============================] - 0s 741us/step - loss: 0.0615 - accuracy: 0.9669\n",
      "Epoch 29/100\n",
      "80/80 [==============================] - 0s 719us/step - loss: 0.0670 - accuracy: 0.9529\n",
      "Epoch 30/100\n",
      "80/80 [==============================] - 0s 763us/step - loss: 0.0652 - accuracy: 0.9551\n",
      "Epoch 31/100\n",
      "80/80 [==============================] - 0s 747us/step - loss: 0.0625 - accuracy: 0.9588\n",
      "Epoch 32/100\n",
      "80/80 [==============================] - 0s 766us/step - loss: 0.0596 - accuracy: 0.9596\n",
      "Epoch 33/100\n",
      "80/80 [==============================] - 0s 786us/step - loss: 0.0590 - accuracy: 0.9625\n",
      "Epoch 34/100\n",
      "80/80 [==============================] - 0s 764us/step - loss: 0.0549 - accuracy: 0.9618\n",
      "Epoch 35/100\n",
      "80/80 [==============================] - 0s 771us/step - loss: 0.0619 - accuracy: 0.9522\n",
      "Epoch 36/100\n",
      "80/80 [==============================] - 0s 771us/step - loss: 0.0622 - accuracy: 0.9596\n",
      "Epoch 37/100\n",
      "80/80 [==============================] - 0s 762us/step - loss: 0.0612 - accuracy: 0.9574\n",
      "Epoch 38/100\n",
      "80/80 [==============================] - 0s 814us/step - loss: 0.0521 - accuracy: 0.9691\n",
      "Epoch 39/100\n",
      "80/80 [==============================] - 0s 810us/step - loss: 0.0504 - accuracy: 0.9647\n",
      "Epoch 40/100\n",
      "80/80 [==============================] - 0s 793us/step - loss: 0.0608 - accuracy: 0.9529\n",
      "Epoch 41/100\n",
      "80/80 [==============================] - 0s 809us/step - loss: 0.0477 - accuracy: 0.9691\n",
      "Epoch 42/100\n",
      "80/80 [==============================] - 0s 823us/step - loss: 0.0465 - accuracy: 0.9676\n",
      "Epoch 43/100\n",
      "80/80 [==============================] - 0s 795us/step - loss: 0.0478 - accuracy: 0.9713\n",
      "Epoch 44/100\n",
      "80/80 [==============================] - 0s 871us/step - loss: 0.0440 - accuracy: 0.9735\n",
      "Epoch 45/100\n",
      "80/80 [==============================] - 0s 975us/step - loss: 0.0485 - accuracy: 0.9699\n",
      "Epoch 46/100\n",
      "80/80 [==============================] - 0s 1ms/step - loss: 0.0448 - accuracy: 0.9713\n",
      "Epoch 47/100\n",
      "80/80 [==============================] - 0s 1ms/step - loss: 0.0500 - accuracy: 0.9662\n",
      "Epoch 48/100\n",
      "80/80 [==============================] - 0s 999us/step - loss: 0.0524 - accuracy: 0.9632\n",
      "Epoch 49/100\n",
      "80/80 [==============================] - 0s 985us/step - loss: 0.0521 - accuracy: 0.9618\n",
      "Epoch 50/100\n",
      "80/80 [==============================] - 0s 1ms/step - loss: 0.0450 - accuracy: 0.9676\n",
      "Epoch 51/100\n",
      "80/80 [==============================] - 0s 1ms/step - loss: 0.0422 - accuracy: 0.9691\n",
      "Epoch 52/100\n",
      "80/80 [==============================] - 0s 1ms/step - loss: 0.0407 - accuracy: 0.9743\n",
      "Epoch 53/100\n",
      "80/80 [==============================] - 0s 1ms/step - loss: 0.0444 - accuracy: 0.9662\n",
      "Epoch 54/100\n",
      "80/80 [==============================] - 0s 979us/step - loss: 0.0489 - accuracy: 0.9640\n",
      "Epoch 55/100\n",
      "80/80 [==============================] - 0s 991us/step - loss: 0.0428 - accuracy: 0.9713\n",
      "Epoch 56/100\n",
      "80/80 [==============================] - 0s 842us/step - loss: 0.0559 - accuracy: 0.9559\n",
      "Epoch 57/100\n",
      "80/80 [==============================] - 0s 794us/step - loss: 0.0434 - accuracy: 0.9699\n",
      "Epoch 58/100\n",
      "80/80 [==============================] - 0s 783us/step - loss: 0.0404 - accuracy: 0.9699\n",
      "Epoch 59/100\n",
      "80/80 [==============================] - 0s 759us/step - loss: 0.0404 - accuracy: 0.9750\n",
      "Epoch 60/100\n",
      "80/80 [==============================] - 0s 797us/step - loss: 0.0419 - accuracy: 0.9713\n",
      "Epoch 61/100\n",
      "80/80 [==============================] - 0s 843us/step - loss: 0.0368 - accuracy: 0.9779\n",
      "Epoch 62/100\n",
      "80/80 [==============================] - 0s 783us/step - loss: 0.0379 - accuracy: 0.9691\n",
      "Epoch 63/100\n",
      "80/80 [==============================] - 0s 793us/step - loss: 0.0409 - accuracy: 0.9699\n",
      "Epoch 64/100\n",
      "80/80 [==============================] - 0s 783us/step - loss: 0.0408 - accuracy: 0.9691\n",
      "Epoch 65/100\n",
      "80/80 [==============================] - 0s 830us/step - loss: 0.0437 - accuracy: 0.9699\n",
      "Epoch 66/100\n",
      "80/80 [==============================] - 0s 1ms/step - loss: 0.0397 - accuracy: 0.9757\n",
      "Epoch 67/100\n",
      "80/80 [==============================] - 0s 1ms/step - loss: 0.0356 - accuracy: 0.9772\n",
      "Epoch 68/100\n",
      "80/80 [==============================] - 0s 1ms/step - loss: 0.0367 - accuracy: 0.9765\n",
      "Epoch 69/100\n",
      "80/80 [==============================] - 0s 604us/step - loss: 0.0459 - accuracy: 0.9684\n",
      "Epoch 70/100\n",
      "80/80 [==============================] - 0s 820us/step - loss: 0.0449 - accuracy: 0.9640\n",
      "Epoch 71/100\n",
      "80/80 [==============================] - 0s 1ms/step - loss: 0.0389 - accuracy: 0.9750\n",
      "Epoch 72/100\n",
      "80/80 [==============================] - 0s 772us/step - loss: 0.0403 - accuracy: 0.9728\n",
      "Epoch 73/100\n",
      "80/80 [==============================] - 0s 987us/step - loss: 0.0445 - accuracy: 0.9669\n",
      "Epoch 74/100\n",
      "80/80 [==============================] - 0s 778us/step - loss: 0.0361 - accuracy: 0.9699\n",
      "Epoch 75/100\n",
      "80/80 [==============================] - 0s 848us/step - loss: 0.0347 - accuracy: 0.9728\n",
      "Epoch 76/100\n",
      "80/80 [==============================] - 0s 747us/step - loss: 0.0397 - accuracy: 0.9691\n",
      "Epoch 77/100\n",
      "80/80 [==============================] - 0s 696us/step - loss: 0.0362 - accuracy: 0.9750\n",
      "Epoch 78/100\n",
      "80/80 [==============================] - 0s 1ms/step - loss: 0.0389 - accuracy: 0.9735\n",
      "Epoch 79/100\n",
      "80/80 [==============================] - 0s 594us/step - loss: 0.0363 - accuracy: 0.9713\n",
      "Epoch 80/100\n",
      "80/80 [==============================] - 0s 707us/step - loss: 0.0369 - accuracy: 0.9728\n",
      "Epoch 81/100\n",
      "80/80 [==============================] - 0s 759us/step - loss: 0.0309 - accuracy: 0.9779\n",
      "Epoch 82/100\n",
      "80/80 [==============================] - 0s 860us/step - loss: 0.0347 - accuracy: 0.9757\n",
      "Epoch 83/100\n",
      "80/80 [==============================] - 0s 774us/step - loss: 0.0331 - accuracy: 0.9772\n",
      "Epoch 84/100\n",
      "80/80 [==============================] - 0s 810us/step - loss: 0.0327 - accuracy: 0.9750\n",
      "Epoch 85/100\n",
      "80/80 [==============================] - 0s 810us/step - loss: 0.0307 - accuracy: 0.9831\n",
      "Epoch 86/100\n",
      "80/80 [==============================] - 0s 797us/step - loss: 0.0360 - accuracy: 0.9713\n",
      "Epoch 87/100\n",
      "80/80 [==============================] - 0s 797us/step - loss: 0.0320 - accuracy: 0.9743\n",
      "Epoch 88/100\n",
      "80/80 [==============================] - 0s 835us/step - loss: 0.0360 - accuracy: 0.9750\n",
      "Epoch 89/100\n",
      "80/80 [==============================] - 0s 772us/step - loss: 0.0366 - accuracy: 0.9757\n",
      "Epoch 90/100\n",
      "80/80 [==============================] - 0s 810us/step - loss: 0.0330 - accuracy: 0.9809\n",
      "Epoch 91/100\n",
      "80/80 [==============================] - 0s 734us/step - loss: 0.0533 - accuracy: 0.9625\n",
      "Epoch 92/100\n",
      "80/80 [==============================] - 0s 747us/step - loss: 0.0286 - accuracy: 0.9809\n",
      "Epoch 93/100\n",
      "80/80 [==============================] - 0s 1ms/step - loss: 0.0317 - accuracy: 0.9787\n",
      "Epoch 94/100\n",
      "80/80 [==============================] - 0s 1ms/step - loss: 0.0306 - accuracy: 0.9794\n",
      "Epoch 95/100\n",
      "80/80 [==============================] - 0s 1000us/step - loss: 0.0462 - accuracy: 0.9669\n",
      "Epoch 96/100\n",
      "80/80 [==============================] - 0s 886us/step - loss: 0.0353 - accuracy: 0.9824\n",
      "Epoch 97/100\n",
      "80/80 [==============================] - 0s 848us/step - loss: 0.0332 - accuracy: 0.9816\n",
      "Epoch 98/100\n",
      "80/80 [==============================] - 0s 1ms/step - loss: 0.0263 - accuracy: 0.9809\n",
      "Epoch 99/100\n",
      "80/80 [==============================] - 0s 936us/step - loss: 0.0298 - accuracy: 0.9853\n",
      "Epoch 100/100\n",
      "80/80 [==============================] - 0s 1ms/step - loss: 0.0277 - accuracy: 0.9816\n"
     ]
    }
   ],
   "source": [
    "hist = model.fit(X_train, Y_train, epochs=100, batch_size=17)"
   ]
  },
  {
   "cell_type": "code",
   "execution_count": 21,
   "metadata": {},
   "outputs": [
    {
     "data": {
      "text/plain": [
       "dict_keys(['validation_data', 'model', '_chief_worker_only', '_supports_tf_logs', 'history', 'params', 'epoch'])"
      ]
     },
     "execution_count": 21,
     "metadata": {},
     "output_type": "execute_result"
    }
   ],
   "source": [
    "hist.__dict__.keys()"
   ]
  },
  {
   "cell_type": "code",
   "execution_count": 22,
   "metadata": {},
   "outputs": [
    {
     "data": {
      "text/plain": [
       "dict_keys(['loss', 'accuracy'])"
      ]
     },
     "execution_count": 22,
     "metadata": {},
     "output_type": "execute_result"
    }
   ],
   "source": [
    "hist.history.keys()"
   ]
  },
  {
   "cell_type": "code",
   "execution_count": 23,
   "metadata": {},
   "outputs": [],
   "source": [
    "acc = hist.history['accuracy']\n",
    "loss = hist.history['loss']"
   ]
  },
  {
   "cell_type": "code",
   "execution_count": 24,
   "metadata": {},
   "outputs": [
    {
     "data": {
      "image/png": "[encoded data removed]",
      "text/plain": [
       "<Figure size 432x288 with 1 Axes>"
      ]
     },
     "metadata": {
      "needs_background": "light"
     },
     "output_type": "display_data"
    },
    {
     "data": {
      "text/plain": [
       "<Figure size 432x288 with 0 Axes>"
      ]
     },
     "metadata": {},
     "output_type": "display_data"
    }
   ],
   "source": [
    "from matplotlib import pyplot as plt\n",
    "# plot training accuracy\n",
    "plt.plot(acc, color='blue')\n",
    "plt.title('Model Accuracy', color='green')\n",
    "plt.ylabel('accuracy', color='green')\n",
    "plt.xlabel('epoch', color='green')\n",
    "plt.legend(['train'], loc='lower right')\n",
    "plt.show()\n",
    "plt.savefig('accuracy_curve.png')"
   ]
  },
  {
   "cell_type": "code",
   "execution_count": 25,
   "metadata": {},
   "outputs": [
    {
     "data": {
      "image/png": "[encoded data removed]",
      "text/plain": [
       "<Figure size 432x288 with 1 Axes>"
      ]
     },
     "metadata": {
      "needs_background": "light"
     },
     "output_type": "display_data"
    },
    {
     "data": {
      "text/plain": [
       "<Figure size 432x288 with 0 Axes>"
      ]
     },
     "metadata": {},
     "output_type": "display_data"
    }
   ],
   "source": [
    "# plot training loss\n",
    "plt.plot(loss, color='red')\n",
    "plt.title('Model Loss', color='green')\n",
    "plt.ylabel('loss', color='green')\n",
    "plt.xlabel('epoch', color='green')\n",
    "plt.legend(['train'], loc='upper right')\n",
    "plt.show()\n",
    "plt.savefig('loss_curve.png')"
   ]
  },
  {
   "cell_type": "code",
   "execution_count": 26,
   "metadata": {},
   "outputs": [
    {
     "name": "stdout",
     "output_type": "stream",
     "text": [
      "11/11 [==============================] - 0s 709us/step - loss: 0.0472 - accuracy: 0.9765\n"
     ]
    }
   ],
   "source": [
    "history_test = model.evaluate(X_test, Y_test)"
   ]
  },
  {
   "cell_type": "code",
   "execution_count": 27,
   "metadata": {},
   "outputs": [
    {
     "name": "stdout",
     "output_type": "stream",
     "text": [
      "43/43 [==============================] - 0s 1000us/step - loss: 0.0247 - accuracy: 0.9868\n"
     ]
    }
   ],
   "source": [
    "history_train = model.evaluate(X_train, Y_train)"
   ]
  },
  {
   "cell_type": "code",
   "execution_count": 28,
   "metadata": {},
   "outputs": [
    {
     "data": {
      "text/plain": [
       "[0.047206055372953415, 0.9764705896377563]"
      ]
     },
     "execution_count": 28,
     "metadata": {},
     "output_type": "execute_result"
    }
   ],
   "source": [
    "history_test"
   ]
  }
 ],
 "metadata": {
  "interpreter": {
   "hash": "243097d9b82650434a57d5e2c1290a3e5ae4cf3af9d9da437ed42734f0bb881c"
  },
  "kernelspec": {
   "display_name": "Python 3.9.7 64-bit",
   "language": "python",
   "name": "python3"
  },
  "language_info": {
   "codemirror_mode": {
    "name": "ipython",
    "version": 3
   },
   "file_extension": ".py",
   "mimetype": "text/x-python",
   "name": "python",
   "nbconvert_exporter": "python",
   "pygments_lexer": "ipython3",
   "version": "3.9.7"
  },
  "orig_nbformat": 4
 },
 "nbformat": 4,
 "nbformat_minor": 2
}
