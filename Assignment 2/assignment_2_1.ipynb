{
 "cells": [
  {
   "cell_type": "code",
   "execution_count": 1,
   "metadata": {},
   "outputs": [],
   "source": [
    "import pandas as pd\n",
    "dataset = pd.read_csv('insurance.csv')"
   ]
  },
  {
   "cell_type": "code",
   "execution_count": 2,
   "metadata": {
    "colab": {
     "base_uri": "https://localhost:8080/",
     "height": 424
    },
    "id": "KnDUO5VxLEhR",
    "outputId": "4492eba6-af4f-428f-8c31-dc096d8eb3ba"
   },
   "outputs": [
    {
     "data": {
      "text/html": [
       "<div>\n",
       "<style scoped>\n",
       "    .dataframe tbody tr th:only-of-type {\n",
       "        vertical-align: middle;\n",
       "    }\n",
       "\n",
       "    .dataframe tbody tr th {\n",
       "        vertical-align: top;\n",
       "    }\n",
       "\n",
       "    .dataframe thead th {\n",
       "        text-align: right;\n",
       "    }\n",
       "</style>\n",
       "<table border=\"1\" class=\"dataframe\">\n",
       "  <thead>\n",
       "    <tr style=\"text-align: right;\">\n",
       "      <th></th>\n",
       "      <th>age</th>\n",
       "      <th>sex</th>\n",
       "      <th>bmi</th>\n",
       "      <th>children</th>\n",
       "      <th>smoker</th>\n",
       "      <th>region</th>\n",
       "      <th>charges</th>\n",
       "    </tr>\n",
       "  </thead>\n",
       "  <tbody>\n",
       "    <tr>\n",
       "      <th>0</th>\n",
       "      <td>19</td>\n",
       "      <td>female</td>\n",
       "      <td>27.900</td>\n",
       "      <td>0</td>\n",
       "      <td>yes</td>\n",
       "      <td>southwest</td>\n",
       "      <td>16884.92400</td>\n",
       "    </tr>\n",
       "    <tr>\n",
       "      <th>1</th>\n",
       "      <td>18</td>\n",
       "      <td>male</td>\n",
       "      <td>33.770</td>\n",
       "      <td>1</td>\n",
       "      <td>no</td>\n",
       "      <td>southeast</td>\n",
       "      <td>1725.55230</td>\n",
       "    </tr>\n",
       "    <tr>\n",
       "      <th>2</th>\n",
       "      <td>28</td>\n",
       "      <td>male</td>\n",
       "      <td>33.000</td>\n",
       "      <td>3</td>\n",
       "      <td>no</td>\n",
       "      <td>southeast</td>\n",
       "      <td>4449.46200</td>\n",
       "    </tr>\n",
       "    <tr>\n",
       "      <th>3</th>\n",
       "      <td>33</td>\n",
       "      <td>male</td>\n",
       "      <td>22.705</td>\n",
       "      <td>0</td>\n",
       "      <td>no</td>\n",
       "      <td>northwest</td>\n",
       "      <td>21984.47061</td>\n",
       "    </tr>\n",
       "    <tr>\n",
       "      <th>4</th>\n",
       "      <td>32</td>\n",
       "      <td>male</td>\n",
       "      <td>28.880</td>\n",
       "      <td>0</td>\n",
       "      <td>no</td>\n",
       "      <td>northwest</td>\n",
       "      <td>3866.85520</td>\n",
       "    </tr>\n",
       "    <tr>\n",
       "      <th>...</th>\n",
       "      <td>...</td>\n",
       "      <td>...</td>\n",
       "      <td>...</td>\n",
       "      <td>...</td>\n",
       "      <td>...</td>\n",
       "      <td>...</td>\n",
       "      <td>...</td>\n",
       "    </tr>\n",
       "    <tr>\n",
       "      <th>1333</th>\n",
       "      <td>50</td>\n",
       "      <td>male</td>\n",
       "      <td>30.970</td>\n",
       "      <td>3</td>\n",
       "      <td>no</td>\n",
       "      <td>northwest</td>\n",
       "      <td>10600.54830</td>\n",
       "    </tr>\n",
       "    <tr>\n",
       "      <th>1334</th>\n",
       "      <td>18</td>\n",
       "      <td>female</td>\n",
       "      <td>31.920</td>\n",
       "      <td>0</td>\n",
       "      <td>no</td>\n",
       "      <td>northeast</td>\n",
       "      <td>2205.98080</td>\n",
       "    </tr>\n",
       "    <tr>\n",
       "      <th>1335</th>\n",
       "      <td>18</td>\n",
       "      <td>female</td>\n",
       "      <td>36.850</td>\n",
       "      <td>0</td>\n",
       "      <td>no</td>\n",
       "      <td>southeast</td>\n",
       "      <td>1629.83350</td>\n",
       "    </tr>\n",
       "    <tr>\n",
       "      <th>1336</th>\n",
       "      <td>21</td>\n",
       "      <td>female</td>\n",
       "      <td>25.800</td>\n",
       "      <td>0</td>\n",
       "      <td>no</td>\n",
       "      <td>southwest</td>\n",
       "      <td>2007.94500</td>\n",
       "    </tr>\n",
       "    <tr>\n",
       "      <th>1337</th>\n",
       "      <td>61</td>\n",
       "      <td>female</td>\n",
       "      <td>29.070</td>\n",
       "      <td>0</td>\n",
       "      <td>yes</td>\n",
       "      <td>northwest</td>\n",
       "      <td>29141.36030</td>\n",
       "    </tr>\n",
       "  </tbody>\n",
       "</table>\n",
       "<p>1338 rows × 7 columns</p>\n",
       "</div>"
      ],
      "text/plain": [
       "      age     sex     bmi  children smoker     region      charges\n",
       "0      19  female  27.900         0    yes  southwest  16884.92400\n",
       "1      18    male  33.770         1     no  southeast   1725.55230\n",
       "2      28    male  33.000         3     no  southeast   4449.46200\n",
       "3      33    male  22.705         0     no  northwest  21984.47061\n",
       "4      32    male  28.880         0     no  northwest   3866.85520\n",
       "...   ...     ...     ...       ...    ...        ...          ...\n",
       "1333   50    male  30.970         3     no  northwest  10600.54830\n",
       "1334   18  female  31.920         0     no  northeast   2205.98080\n",
       "1335   18  female  36.850         0     no  southeast   1629.83350\n",
       "1336   21  female  25.800         0     no  southwest   2007.94500\n",
       "1337   61  female  29.070         0    yes  northwest  29141.36030\n",
       "\n",
       "[1338 rows x 7 columns]"
      ]
     },
     "execution_count": 2,
     "metadata": {},
     "output_type": "execute_result"
    }
   ],
   "source": [
    "dataset"
   ]
  },
  {
   "cell_type": "code",
   "execution_count": 3,
   "metadata": {},
   "outputs": [],
   "source": [
    "# dataset = dataset.drop(columns=['No.','flight'])"
   ]
  },
  {
   "cell_type": "code",
   "execution_count": 4,
   "metadata": {},
   "outputs": [
    {
     "data": {
      "text/plain": [
       "age         0\n",
       "sex         0\n",
       "bmi         0\n",
       "children    0\n",
       "smoker      0\n",
       "region      0\n",
       "charges     0\n",
       "dtype: int64"
      ]
     },
     "execution_count": 4,
     "metadata": {},
     "output_type": "execute_result"
    }
   ],
   "source": [
    "dataset.isnull().sum()"
   ]
  },
  {
   "cell_type": "code",
   "execution_count": 5,
   "metadata": {
    "id": "6yfPVPCeQShu"
   },
   "outputs": [],
   "source": [
    "from sklearn.preprocessing import LabelEncoder\n",
    "le = LabelEncoder()\n",
    "dataset.iloc[:, 1] = le.fit_transform(dataset.iloc[:, 1])\n",
    "dataset.iloc[:, 4] = le.fit_transform(dataset.iloc[:, 4])\n",
    "dataset.iloc[:, 5] = le.fit_transform(dataset.iloc[:, 5])"
   ]
  },
  {
   "cell_type": "code",
   "execution_count": 6,
   "metadata": {
    "colab": {
     "base_uri": "https://localhost:8080/"
    },
    "id": "gzNDshTXQcGD",
    "outputId": "bd84713b-5fae-48d9-f8da-7c9ccb8896a8"
   },
   "outputs": [
    {
     "data": {
      "text/html": [
       "<div>\n",
       "<style scoped>\n",
       "    .dataframe tbody tr th:only-of-type {\n",
       "        vertical-align: middle;\n",
       "    }\n",
       "\n",
       "    .dataframe tbody tr th {\n",
       "        vertical-align: top;\n",
       "    }\n",
       "\n",
       "    .dataframe thead th {\n",
       "        text-align: right;\n",
       "    }\n",
       "</style>\n",
       "<table border=\"1\" class=\"dataframe\">\n",
       "  <thead>\n",
       "    <tr style=\"text-align: right;\">\n",
       "      <th></th>\n",
       "      <th>age</th>\n",
       "      <th>sex</th>\n",
       "      <th>bmi</th>\n",
       "      <th>children</th>\n",
       "      <th>smoker</th>\n",
       "      <th>region</th>\n",
       "      <th>charges</th>\n",
       "    </tr>\n",
       "  </thead>\n",
       "  <tbody>\n",
       "    <tr>\n",
       "      <th>0</th>\n",
       "      <td>19</td>\n",
       "      <td>0</td>\n",
       "      <td>27.900</td>\n",
       "      <td>0</td>\n",
       "      <td>1</td>\n",
       "      <td>3</td>\n",
       "      <td>16884.92400</td>\n",
       "    </tr>\n",
       "    <tr>\n",
       "      <th>1</th>\n",
       "      <td>18</td>\n",
       "      <td>1</td>\n",
       "      <td>33.770</td>\n",
       "      <td>1</td>\n",
       "      <td>0</td>\n",
       "      <td>2</td>\n",
       "      <td>1725.55230</td>\n",
       "    </tr>\n",
       "    <tr>\n",
       "      <th>2</th>\n",
       "      <td>28</td>\n",
       "      <td>1</td>\n",
       "      <td>33.000</td>\n",
       "      <td>3</td>\n",
       "      <td>0</td>\n",
       "      <td>2</td>\n",
       "      <td>4449.46200</td>\n",
       "    </tr>\n",
       "    <tr>\n",
       "      <th>3</th>\n",
       "      <td>33</td>\n",
       "      <td>1</td>\n",
       "      <td>22.705</td>\n",
       "      <td>0</td>\n",
       "      <td>0</td>\n",
       "      <td>1</td>\n",
       "      <td>21984.47061</td>\n",
       "    </tr>\n",
       "    <tr>\n",
       "      <th>4</th>\n",
       "      <td>32</td>\n",
       "      <td>1</td>\n",
       "      <td>28.880</td>\n",
       "      <td>0</td>\n",
       "      <td>0</td>\n",
       "      <td>1</td>\n",
       "      <td>3866.85520</td>\n",
       "    </tr>\n",
       "    <tr>\n",
       "      <th>...</th>\n",
       "      <td>...</td>\n",
       "      <td>...</td>\n",
       "      <td>...</td>\n",
       "      <td>...</td>\n",
       "      <td>...</td>\n",
       "      <td>...</td>\n",
       "      <td>...</td>\n",
       "    </tr>\n",
       "    <tr>\n",
       "      <th>1333</th>\n",
       "      <td>50</td>\n",
       "      <td>1</td>\n",
       "      <td>30.970</td>\n",
       "      <td>3</td>\n",
       "      <td>0</td>\n",
       "      <td>1</td>\n",
       "      <td>10600.54830</td>\n",
       "    </tr>\n",
       "    <tr>\n",
       "      <th>1334</th>\n",
       "      <td>18</td>\n",
       "      <td>0</td>\n",
       "      <td>31.920</td>\n",
       "      <td>0</td>\n",
       "      <td>0</td>\n",
       "      <td>0</td>\n",
       "      <td>2205.98080</td>\n",
       "    </tr>\n",
       "    <tr>\n",
       "      <th>1335</th>\n",
       "      <td>18</td>\n",
       "      <td>0</td>\n",
       "      <td>36.850</td>\n",
       "      <td>0</td>\n",
       "      <td>0</td>\n",
       "      <td>2</td>\n",
       "      <td>1629.83350</td>\n",
       "    </tr>\n",
       "    <tr>\n",
       "      <th>1336</th>\n",
       "      <td>21</td>\n",
       "      <td>0</td>\n",
       "      <td>25.800</td>\n",
       "      <td>0</td>\n",
       "      <td>0</td>\n",
       "      <td>3</td>\n",
       "      <td>2007.94500</td>\n",
       "    </tr>\n",
       "    <tr>\n",
       "      <th>1337</th>\n",
       "      <td>61</td>\n",
       "      <td>0</td>\n",
       "      <td>29.070</td>\n",
       "      <td>0</td>\n",
       "      <td>1</td>\n",
       "      <td>1</td>\n",
       "      <td>29141.36030</td>\n",
       "    </tr>\n",
       "  </tbody>\n",
       "</table>\n",
       "<p>1338 rows × 7 columns</p>\n",
       "</div>"
      ],
      "text/plain": [
       "      age  sex     bmi  children  smoker  region      charges\n",
       "0      19    0  27.900         0       1       3  16884.92400\n",
       "1      18    1  33.770         1       0       2   1725.55230\n",
       "2      28    1  33.000         3       0       2   4449.46200\n",
       "3      33    1  22.705         0       0       1  21984.47061\n",
       "4      32    1  28.880         0       0       1   3866.85520\n",
       "...   ...  ...     ...       ...     ...     ...          ...\n",
       "1333   50    1  30.970         3       0       1  10600.54830\n",
       "1334   18    0  31.920         0       0       0   2205.98080\n",
       "1335   18    0  36.850         0       0       2   1629.83350\n",
       "1336   21    0  25.800         0       0       3   2007.94500\n",
       "1337   61    0  29.070         0       1       1  29141.36030\n",
       "\n",
       "[1338 rows x 7 columns]"
      ]
     },
     "execution_count": 6,
     "metadata": {},
     "output_type": "execute_result"
    }
   ],
   "source": [
    "dataset"
   ]
  },
  {
   "cell_type": "code",
   "execution_count": 7,
   "metadata": {
    "id": "sY1a5WATXYAF"
   },
   "outputs": [],
   "source": [
    "from sklearn.preprocessing import MinMaxScaler\n",
    "sc = MinMaxScaler()\n",
    "dataset = sc.fit_transform(dataset)"
   ]
  },
  {
   "cell_type": "code",
   "execution_count": 8,
   "metadata": {
    "colab": {
     "base_uri": "https://localhost:8080/"
    },
    "id": "83a0PzwgXrZa",
    "outputId": "069dfac0-e54a-4c9d-80a6-340c69ba9022"
   },
   "outputs": [
    {
     "data": {
      "text/plain": [
       "array([[0.02173913, 0.        , 0.3212268 , ..., 1.        , 1.        ,\n",
       "        0.25161076],\n",
       "       [0.        , 1.        , 0.47914985, ..., 0.        , 0.66666667,\n",
       "        0.00963595],\n",
       "       [0.2173913 , 1.        , 0.45843422, ..., 0.        , 0.66666667,\n",
       "        0.05311516],\n",
       "       ...,\n",
       "       [0.        , 0.        , 0.56201238, ..., 0.        , 0.66666667,\n",
       "        0.00810808],\n",
       "       [0.06521739, 0.        , 0.26472962, ..., 0.        , 1.        ,\n",
       "        0.01414352],\n",
       "       [0.93478261, 0.        , 0.35270379, ..., 1.        , 0.33333333,\n",
       "        0.44724873]])"
      ]
     },
     "execution_count": 8,
     "metadata": {},
     "output_type": "execute_result"
    }
   ],
   "source": [
    "dataset"
   ]
  },
  {
   "cell_type": "code",
   "execution_count": 9,
   "metadata": {
    "id": "DIWuOIamVLCP"
   },
   "outputs": [],
   "source": [
    "# dataset = pd.DataFrame(data=dataset)"
   ]
  },
  {
   "cell_type": "code",
   "execution_count": 10,
   "metadata": {
    "id": "nmmz30dXQJgq"
   },
   "outputs": [],
   "source": [
    "X = dataset[:, 0:6]\n",
    "Y = dataset[:, -1]"
   ]
  },
  {
   "cell_type": "code",
   "execution_count": 11,
   "metadata": {
    "colab": {
     "base_uri": "https://localhost:8080/"
    },
    "id": "wif556K0PMtm",
    "outputId": "ed524074-d723-45e3-c3b7-825292cabe99"
   },
   "outputs": [
    {
     "data": {
      "text/plain": [
       "array([[0.02173913, 0.        , 0.3212268 , 0.        , 1.        ,\n",
       "        1.        ],\n",
       "       [0.        , 1.        , 0.47914985, 0.2       , 0.        ,\n",
       "        0.66666667],\n",
       "       [0.2173913 , 1.        , 0.45843422, 0.6       , 0.        ,\n",
       "        0.66666667],\n",
       "       ...,\n",
       "       [0.        , 0.        , 0.56201238, 0.        , 0.        ,\n",
       "        0.66666667],\n",
       "       [0.06521739, 0.        , 0.26472962, 0.        , 0.        ,\n",
       "        1.        ],\n",
       "       [0.93478261, 0.        , 0.35270379, 0.        , 1.        ,\n",
       "        0.33333333]])"
      ]
     },
     "execution_count": 11,
     "metadata": {},
     "output_type": "execute_result"
    }
   ],
   "source": [
    "X"
   ]
  },
  {
   "cell_type": "code",
   "execution_count": 12,
   "metadata": {
    "colab": {
     "base_uri": "https://localhost:8080/"
    },
    "id": "4QRfWBHMLEhV",
    "outputId": "b5782dfd-66e7-40eb-998b-29a229d96ff8"
   },
   "outputs": [
    {
     "data": {
      "text/plain": [
       "array([0.25161076, 0.00963595, 0.05311516, ..., 0.00810808, 0.01414352,\n",
       "       0.44724873])"
      ]
     },
     "execution_count": 12,
     "metadata": {},
     "output_type": "execute_result"
    }
   ],
   "source": [
    "Y"
   ]
  },
  {
   "cell_type": "code",
   "execution_count": 13,
   "metadata": {
    "id": "4Uy3JI3wLEhV"
   },
   "outputs": [],
   "source": [
    "from sklearn.model_selection import train_test_split\n",
    "X_train, X_test, Y_train, Y_test = train_test_split(X, Y, train_size=0.80, random_state=42)"
   ]
  },
  {
   "cell_type": "code",
   "execution_count": 14,
   "metadata": {
    "colab": {
     "base_uri": "https://localhost:8080/"
    },
    "id": "1UeoTcLeLEhV",
    "outputId": "c05a8c1b-5d0b-4f01-c6c0-4e39829a7541"
   },
   "outputs": [
    {
     "data": {
      "text/plain": [
       "(1070, 6)"
      ]
     },
     "execution_count": 14,
     "metadata": {},
     "output_type": "execute_result"
    }
   ],
   "source": [
    "X_train.shape"
   ]
  },
  {
   "cell_type": "code",
   "execution_count": 15,
   "metadata": {
    "colab": {
     "base_uri": "https://localhost:8080/"
    },
    "id": "5XJe0fkuLEhV",
    "outputId": "8dd9eac1-ffe9-4b13-ccae-6c597584280e"
   },
   "outputs": [
    {
     "data": {
      "text/plain": [
       "(268, 6)"
      ]
     },
     "execution_count": 15,
     "metadata": {},
     "output_type": "execute_result"
    }
   ],
   "source": [
    "X_test.shape"
   ]
  },
  {
   "cell_type": "code",
   "execution_count": 16,
   "metadata": {
    "id": "VtiITIf2LEhW"
   },
   "outputs": [],
   "source": [
    "from tensorflow.keras.models import Sequential\n",
    "from tensorflow.keras.layers import Dense\n",
    "from tensorflow.keras.optimizers import Adam"
   ]
  },
  {
   "cell_type": "code",
   "execution_count": 17,
   "metadata": {
    "id": "39LbYuLpLEhW"
   },
   "outputs": [],
   "source": [
    "# define the keras model\n",
    "model = Sequential(name='sequential_1')\n",
    "model.add(Dense(12, input_dim=6, activation='relu', name='dense_1'))\n",
    "model.add(Dense(1,  activation='linear', name='output'))\n",
    "# compile the keras model\n",
    "model.compile(loss='mean_squared_error', optimizer=Adam(learning_rate=0.01))"
   ]
  },
  {
   "cell_type": "code",
   "execution_count": 18,
   "metadata": {
    "colab": {
     "base_uri": "https://localhost:8080/"
    },
    "id": "UNcJ-VNkLEhW",
    "outputId": "9385bf21-72d5-4c25-fe5e-00ccdca89193"
   },
   "outputs": [
    {
     "data": {
      "text/plain": [
       "{'name': 'Adam',\n",
       " 'learning_rate': 0.01,\n",
       " 'decay': 0.0,\n",
       " 'beta_1': 0.9,\n",
       " 'beta_2': 0.999,\n",
       " 'epsilon': 1e-07,\n",
       " 'amsgrad': False}"
      ]
     },
     "execution_count": 18,
     "metadata": {},
     "output_type": "execute_result"
    }
   ],
   "source": [
    "model.optimizer.get_config()"
   ]
  },
  {
   "cell_type": "code",
   "execution_count": 19,
   "metadata": {
    "colab": {
     "base_uri": "https://localhost:8080/"
    },
    "id": "N3mBa0LFLEhW",
    "outputId": "7d67e53f-bef3-4592-c27b-4678598cd8f9"
   },
   "outputs": [
    {
     "name": "stdout",
     "output_type": "stream",
     "text": [
      "Model: \"sequential_1\"\n",
      "_________________________________________________________________\n",
      " Layer (type)                Output Shape              Param #   \n",
      "=================================================================\n",
      " dense_1 (Dense)             (None, 12)                84        \n",
      "                                                                 \n",
      " output (Dense)              (None, 1)                 13        \n",
      "                                                                 \n",
      "=================================================================\n",
      "Total params: 97\n",
      "Trainable params: 97\n",
      "Non-trainable params: 0\n",
      "_________________________________________________________________\n"
     ]
    }
   ],
   "source": [
    "model.summary()"
   ]
  },
  {
   "cell_type": "code",
   "execution_count": 20,
   "metadata": {
    "colab": {
     "base_uri": "https://localhost:8080/"
    },
    "id": "qQVW1w5nLEhX",
    "outputId": "4d3671a5-df5f-4c58-b609-e61d0d6260ba"
   },
   "outputs": [
    {
     "name": "stdout",
     "output_type": "stream",
     "text": [
      "Epoch 1/100\n",
      "10/10 [==============================] - 0s 899us/step - loss: 0.0643\n",
      "Epoch 2/100\n",
      "10/10 [==============================] - 0s 889us/step - loss: 0.0240\n",
      "Epoch 3/100\n",
      "10/10 [==============================] - 0s 1000us/step - loss: 0.0178\n",
      "Epoch 4/100\n",
      "10/10 [==============================] - 0s 999us/step - loss: 0.0136\n",
      "Epoch 5/100\n",
      "10/10 [==============================] - 0s 999us/step - loss: 0.0119\n",
      "Epoch 6/100\n",
      "10/10 [==============================] - 0s 999us/step - loss: 0.0110\n",
      "Epoch 7/100\n",
      "10/10 [==============================] - 0s 1ms/step - loss: 0.0102\n",
      "Epoch 8/100\n",
      "10/10 [==============================] - 0s 1000us/step - loss: 0.0096\n",
      "Epoch 9/100\n",
      "10/10 [==============================] - 0s 900us/step - loss: 0.0093\n",
      "Epoch 10/100\n",
      "10/10 [==============================] - 0s 887us/step - loss: 0.0091\n",
      "Epoch 11/100\n",
      "10/10 [==============================] - 0s 1ms/step - loss: 0.0090\n",
      "Epoch 12/100\n",
      "10/10 [==============================] - 0s 889us/step - loss: 0.0087\n",
      "Epoch 13/100\n",
      "10/10 [==============================] - 0s 929us/step - loss: 0.0086\n",
      "Epoch 14/100\n",
      "10/10 [==============================] - 0s 778us/step - loss: 0.0087\n",
      "Epoch 15/100\n",
      "10/10 [==============================] - 0s 1ms/step - loss: 0.0084\n",
      "Epoch 16/100\n",
      "10/10 [==============================] - 0s 1ms/step - loss: 0.0083\n",
      "Epoch 17/100\n",
      "10/10 [==============================] - 0s 889us/step - loss: 0.0082\n",
      "Epoch 18/100\n",
      "10/10 [==============================] - 0s 1ms/step - loss: 0.0081\n",
      "Epoch 19/100\n",
      "10/10 [==============================] - 0s 1ms/step - loss: 0.0080\n",
      "Epoch 20/100\n",
      "10/10 [==============================] - 0s 1ms/step - loss: 0.0081\n",
      "Epoch 21/100\n",
      "10/10 [==============================] - 0s 1ms/step - loss: 0.0079\n",
      "Epoch 22/100\n",
      "10/10 [==============================] - 0s 777us/step - loss: 0.0076\n",
      "Epoch 23/100\n",
      "10/10 [==============================] - 0s 888us/step - loss: 0.0074\n",
      "Epoch 24/100\n",
      "10/10 [==============================] - 0s 889us/step - loss: 0.0072\n",
      "Epoch 25/100\n",
      "10/10 [==============================] - 0s 889us/step - loss: 0.0071\n",
      "Epoch 26/100\n",
      "10/10 [==============================] - 0s 999us/step - loss: 0.0071\n",
      "Epoch 27/100\n",
      "10/10 [==============================] - 0s 888us/step - loss: 0.0070\n",
      "Epoch 28/100\n",
      "10/10 [==============================] - 0s 666us/step - loss: 0.0069\n",
      "Epoch 29/100\n",
      "10/10 [==============================] - 0s 1000us/step - loss: 0.0069\n",
      "Epoch 30/100\n",
      "10/10 [==============================] - 0s 1000us/step - loss: 0.0069\n",
      "Epoch 31/100\n",
      "10/10 [==============================] - 0s 666us/step - loss: 0.0066\n",
      "Epoch 32/100\n",
      "10/10 [==============================] - 0s 999us/step - loss: 0.0066\n",
      "Epoch 33/100\n",
      "10/10 [==============================] - 0s 1000us/step - loss: 0.0064\n",
      "Epoch 34/100\n",
      "10/10 [==============================] - 0s 778us/step - loss: 0.0063\n",
      "Epoch 35/100\n",
      "10/10 [==============================] - 0s 889us/step - loss: 0.0062\n",
      "Epoch 36/100\n",
      "10/10 [==============================] - 0s 889us/step - loss: 0.0063\n",
      "Epoch 37/100\n",
      "10/10 [==============================] - 0s 777us/step - loss: 0.0065\n",
      "Epoch 38/100\n",
      "10/10 [==============================] - 0s 1ms/step - loss: 0.0063\n",
      "Epoch 39/100\n",
      "10/10 [==============================] - 0s 778us/step - loss: 0.0062\n",
      "Epoch 40/100\n",
      "10/10 [==============================] - 0s 1ms/step - loss: 0.0062\n",
      "Epoch 41/100\n",
      "10/10 [==============================] - 0s 1ms/step - loss: 0.0061\n",
      "Epoch 42/100\n",
      "10/10 [==============================] - 0s 776us/step - loss: 0.0061\n",
      "Epoch 43/100\n",
      "10/10 [==============================] - 0s 1ms/step - loss: 0.0063\n",
      "Epoch 44/100\n",
      "10/10 [==============================] - 0s 1ms/step - loss: 0.0066\n",
      "Epoch 45/100\n",
      "10/10 [==============================] - 0s 2ms/step - loss: 0.0065\n",
      "Epoch 46/100\n",
      "10/10 [==============================] - 0s 1000us/step - loss: 0.0064\n",
      "Epoch 47/100\n",
      "10/10 [==============================] - 0s 1ms/step - loss: 0.0061\n",
      "Epoch 48/100\n",
      "10/10 [==============================] - 0s 2ms/step - loss: 0.0060\n",
      "Epoch 49/100\n",
      "10/10 [==============================] - 0s 2ms/step - loss: 0.0060\n",
      "Epoch 50/100\n",
      "10/10 [==============================] - 0s 1ms/step - loss: 0.0059\n",
      "Epoch 51/100\n",
      "10/10 [==============================] - 0s 1ms/step - loss: 0.0061\n",
      "Epoch 52/100\n",
      "10/10 [==============================] - 0s 778us/step - loss: 0.0062\n",
      "Epoch 53/100\n",
      "10/10 [==============================] - 0s 1ms/step - loss: 0.0062\n",
      "Epoch 54/100\n",
      "10/10 [==============================] - 0s 1ms/step - loss: 0.0061\n",
      "Epoch 55/100\n",
      "10/10 [==============================] - 0s 888us/step - loss: 0.0060\n",
      "Epoch 56/100\n",
      "10/10 [==============================] - 0s 777us/step - loss: 0.0060\n",
      "Epoch 57/100\n",
      "10/10 [==============================] - 0s 777us/step - loss: 0.0059\n",
      "Epoch 58/100\n",
      "10/10 [==============================] - 0s 889us/step - loss: 0.0059\n",
      "Epoch 59/100\n",
      "10/10 [==============================] - 0s 889us/step - loss: 0.0059\n",
      "Epoch 60/100\n",
      "10/10 [==============================] - 0s 889us/step - loss: 0.0060\n",
      "Epoch 61/100\n",
      "10/10 [==============================] - 0s 778us/step - loss: 0.0062\n",
      "Epoch 62/100\n",
      "10/10 [==============================] - 0s 778us/step - loss: 0.0062\n",
      "Epoch 63/100\n",
      "10/10 [==============================] - 0s 1ms/step - loss: 0.0059\n",
      "Epoch 64/100\n",
      "10/10 [==============================] - 0s 777us/step - loss: 0.0059\n",
      "Epoch 65/100\n",
      "10/10 [==============================] - 0s 777us/step - loss: 0.0060\n",
      "Epoch 66/100\n",
      "10/10 [==============================] - 0s 1ms/step - loss: 0.0060\n",
      "Epoch 67/100\n",
      "10/10 [==============================] - 0s 1000us/step - loss: 0.0060\n",
      "Epoch 68/100\n",
      "10/10 [==============================] - 0s 1ms/step - loss: 0.0060\n",
      "Epoch 69/100\n",
      "10/10 [==============================] - 0s 1ms/step - loss: 0.0059\n",
      "Epoch 70/100\n",
      "10/10 [==============================] - 0s 1000us/step - loss: 0.0059\n",
      "Epoch 71/100\n",
      "10/10 [==============================] - 0s 889us/step - loss: 0.0059\n",
      "Epoch 72/100\n",
      "10/10 [==============================] - 0s 778us/step - loss: 0.0059\n",
      "Epoch 73/100\n",
      "10/10 [==============================] - 0s 1000us/step - loss: 0.0059\n",
      "Epoch 74/100\n",
      "10/10 [==============================] - 0s 778us/step - loss: 0.0058\n",
      "Epoch 75/100\n",
      "10/10 [==============================] - 0s 1000us/step - loss: 0.0058\n",
      "Epoch 76/100\n",
      "10/10 [==============================] - 0s 1000us/step - loss: 0.0059\n",
      "Epoch 77/100\n",
      "10/10 [==============================] - 0s 666us/step - loss: 0.0058\n",
      "Epoch 78/100\n",
      "10/10 [==============================] - 0s 1000us/step - loss: 0.0059\n",
      "Epoch 79/100\n",
      "10/10 [==============================] - 0s 1ms/step - loss: 0.0058\n",
      "Epoch 80/100\n",
      "10/10 [==============================] - 0s 889us/step - loss: 0.0058\n",
      "Epoch 81/100\n",
      "10/10 [==============================] - 0s 1000us/step - loss: 0.0058\n",
      "Epoch 82/100\n",
      "10/10 [==============================] - 0s 1000us/step - loss: 0.0058\n",
      "Epoch 83/100\n",
      "10/10 [==============================] - 0s 889us/step - loss: 0.0058\n",
      "Epoch 84/100\n",
      "10/10 [==============================] - 0s 777us/step - loss: 0.0059\n",
      "Epoch 85/100\n",
      "10/10 [==============================] - 0s 889us/step - loss: 0.0060\n",
      "Epoch 86/100\n",
      "10/10 [==============================] - 0s 666us/step - loss: 0.0060\n",
      "Epoch 87/100\n",
      "10/10 [==============================] - 0s 889us/step - loss: 0.0059\n",
      "Epoch 88/100\n",
      "10/10 [==============================] - 0s 666us/step - loss: 0.0061\n",
      "Epoch 89/100\n",
      "10/10 [==============================] - 0s 777us/step - loss: 0.0062\n",
      "Epoch 90/100\n",
      "10/10 [==============================] - 0s 779us/step - loss: 0.0065\n",
      "Epoch 91/100\n",
      "10/10 [==============================] - 0s 777us/step - loss: 0.0065\n",
      "Epoch 92/100\n",
      "10/10 [==============================] - 0s 889us/step - loss: 0.0062\n",
      "Epoch 93/100\n",
      "10/10 [==============================] - 0s 778us/step - loss: 0.0060\n",
      "Epoch 94/100\n",
      "10/10 [==============================] - 0s 889us/step - loss: 0.0060\n",
      "Epoch 95/100\n",
      "10/10 [==============================] - 0s 778us/step - loss: 0.0059\n",
      "Epoch 96/100\n",
      "10/10 [==============================] - 0s 777us/step - loss: 0.0058\n",
      "Epoch 97/100\n",
      "10/10 [==============================] - 0s 1000us/step - loss: 0.0058\n",
      "Epoch 98/100\n",
      "10/10 [==============================] - 0s 778us/step - loss: 0.0059\n",
      "Epoch 99/100\n",
      "10/10 [==============================] - 0s 889us/step - loss: 0.0058\n",
      "Epoch 100/100\n",
      "10/10 [==============================] - 0s 666us/step - loss: 0.0058\n"
     ]
    }
   ],
   "source": [
    "hist = model.fit(X_train, Y_train, epochs=100, batch_size=107)"
   ]
  },
  {
   "cell_type": "code",
   "execution_count": 21,
   "metadata": {
    "colab": {
     "base_uri": "https://localhost:8080/"
    },
    "id": "W_XgaaBaLEhX",
    "outputId": "ee283bf0-939c-4891-e49e-6e46cfec1c63"
   },
   "outputs": [
    {
     "data": {
      "text/plain": [
       "dict_keys(['validation_data', 'model', '_chief_worker_only', '_supports_tf_logs', 'history', 'params', 'epoch'])"
      ]
     },
     "execution_count": 21,
     "metadata": {},
     "output_type": "execute_result"
    }
   ],
   "source": [
    "hist.__dict__.keys()"
   ]
  },
  {
   "cell_type": "code",
   "execution_count": 22,
   "metadata": {
    "colab": {
     "base_uri": "https://localhost:8080/"
    },
    "id": "rw9qi2nPLEhX",
    "outputId": "42400df7-58f4-43ed-8b9b-93712a6752c0"
   },
   "outputs": [
    {
     "data": {
      "text/plain": [
       "dict_keys(['loss'])"
      ]
     },
     "execution_count": 22,
     "metadata": {},
     "output_type": "execute_result"
    }
   ],
   "source": [
    "hist.history.keys()"
   ]
  },
  {
   "cell_type": "code",
   "execution_count": 23,
   "metadata": {
    "id": "4a6_p7igLEhX"
   },
   "outputs": [],
   "source": [
    "loss = hist.history['loss']"
   ]
  },
  {
   "cell_type": "code",
   "execution_count": 24,
   "metadata": {},
   "outputs": [
    {
     "data": {
      "image/png": "[encoded data removed]",
      "text/plain": [
       "<Figure size 432x288 with 1 Axes>"
      ]
     },
     "metadata": {
      "needs_background": "light"
     },
     "output_type": "display_data"
    },
    {
     "data": {
      "text/plain": [
       "<Figure size 432x288 with 0 Axes>"
      ]
     },
     "metadata": {},
     "output_type": "display_data"
    }
   ],
   "source": [
    "from matplotlib import pyplot as plt\n",
    "# plot training loss\n",
    "plt.plot(loss, color='red')\n",
    "plt.title('Model Loss', color='green')\n",
    "plt.ylabel('loss', color='green')\n",
    "plt.xlabel('epoch', color='green')\n",
    "plt.legend(['train'], loc='upper right')\n",
    "plt.show()\n",
    "plt.savefig('loss_curve.png')"
   ]
  },
  {
   "cell_type": "code",
   "execution_count": 25,
   "metadata": {
    "colab": {
     "base_uri": "https://localhost:8080/"
    },
    "id": "Qg1sEV_jLEhY",
    "outputId": "54c24a5d-e742-428f-ed69-0e1897c3be60"
   },
   "outputs": [
    {
     "name": "stdout",
     "output_type": "stream",
     "text": [
      "3/3 [==============================] - 0s 1ms/step - loss: 0.0054\n"
     ]
    }
   ],
   "source": [
    "history_test = model.evaluate(X_test, Y_test, batch_size=107)"
   ]
  },
  {
   "cell_type": "code",
   "execution_count": 26,
   "metadata": {
    "colab": {
     "base_uri": "https://localhost:8080/"
    },
    "id": "YcnBw6tLLEhY",
    "outputId": "ca7ee62f-cfef-4f58-fd86-976fd4b29453"
   },
   "outputs": [
    {
     "name": "stdout",
     "output_type": "stream",
     "text": [
      "10/10 [==============================] - 0s 1ms/step - loss: 0.0057\n"
     ]
    }
   ],
   "source": [
    "history_train = model.evaluate(X_train, Y_train, batch_size=107)"
   ]
  },
  {
   "cell_type": "code",
   "execution_count": 27,
   "metadata": {
    "colab": {
     "base_uri": "https://localhost:8080/"
    },
    "id": "kTsNYO1PLEhY",
    "outputId": "d7a660e3-cb86-4023-fd71-c1523217eadb"
   },
   "outputs": [
    {
     "data": {
      "text/plain": [
       "0.005366354715079069"
      ]
     },
     "execution_count": 27,
     "metadata": {},
     "output_type": "execute_result"
    }
   ],
   "source": [
    "history_test"
   ]
  },
  {
   "cell_type": "code",
   "execution_count": 28,
   "metadata": {},
   "outputs": [
    {
     "data": {
      "text/plain": [
       "0.0056923627853393555"
      ]
     },
     "execution_count": 28,
     "metadata": {},
     "output_type": "execute_result"
    }
   ],
   "source": [
    "history_train"
   ]
  }
 ],
 "metadata": {
  "interpreter": {
   "hash": "243097d9b82650434a57d5e2c1290a3e5ae4cf3af9d9da437ed42734f0bb881c"
  },
  "kernelspec": {
   "display_name": "Python 3.9.7 64-bit",
   "language": "python",
   "name": "python3"
  },
  "language_info": {
   "codemirror_mode": {
    "name": "ipython",
    "version": 3
   },
   "file_extension": ".py",
   "mimetype": "text/x-python",
   "name": "python",
   "nbconvert_exporter": "python",
   "pygments_lexer": "ipython3",
   "version": "3.9.7"
  },
  "orig_nbformat": 4
 },
 "nbformat": 4,
 "nbformat_minor": 2
}
